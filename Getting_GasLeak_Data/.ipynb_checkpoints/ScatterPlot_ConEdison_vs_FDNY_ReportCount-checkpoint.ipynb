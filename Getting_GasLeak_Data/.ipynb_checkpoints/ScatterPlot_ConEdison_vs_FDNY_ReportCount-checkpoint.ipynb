{
 "cells": [
  {
   "cell_type": "code",
   "execution_count": 2,
   "metadata": {},
   "outputs": [],
   "source": [
    "#%%\n",
    "import plotly.express as px       # interactive plots\n",
    "import matplotlib.pyplot as plt   # non interactive plots\n",
    "import numpy as np\n",
    "import pandas as pd\n",
    "import textwrap                                                 # need this to make the long title"
   ]
  },
  {
   "cell_type": "code",
   "execution_count": 3,
   "metadata": {},
   "outputs": [
    {
     "name": "stdout",
     "output_type": "stream",
     "text": [
      "---------- FDNY Data for 2018 ----------\n",
      "\n",
      "             Geoid  NumberOfReports  Month  Year      MonthYear\n",
      "0      36047089000                3     12  2018  December-2018\n",
      "1      36081043701                1     12  2018  December-2018\n",
      "2      36085012200                1     12  2018  December-2018\n",
      "3      36005009000                9     12  2018  December-2018\n",
      "4      36005014300                2     12  2018  December-2018\n",
      "...            ...              ...    ...   ...            ...\n",
      "11460  36061010602                1      1  2018   January-2018\n",
      "11461  36081058300                1      1  2018   January-2018\n",
      "11462  36081099100                1      1  2018   January-2018\n",
      "11463  36081093800                1      1  2018   January-2018\n",
      "11464  36081029400                1      1  2018   January-2018\n",
      "\n",
      "[11465 rows x 5 columns]\n",
      "---------- ConEdison Data for Dec 2019, Jan 2020, Feb 2020 ----------\n",
      "\n",
      "         MonthYear  CensusTract_2010  TotalReports  CensusTract_2010_ID  \\\n",
      "0    February-2020            146.07             2                14607   \n",
      "1    February-2020            146.06             1                14606   \n",
      "2    February-2020            145.00             1                14500   \n",
      "3    February-2020            139.00             3                13900   \n",
      "4    February-2020            136.00             2                13600   \n",
      "..             ...               ...           ...                  ...   \n",
      "881    August-2018            131.02             1                13102   \n",
      "882      June-2018           1199.00             1               119900   \n",
      "883       May-2018             63.00             1                 6300   \n",
      "884  February-2018            113.00             1                11300   \n",
      "885    August-2017            107.01             1                10701   \n",
      "\n",
      "    CensusTract_2010_NAME     CountyName_2010    GEOID_SCT  \\\n",
      "0     Census Tract 146.07  Westchester County  36119014607   \n",
      "1     Census Tract 146.06  Westchester County  36119014606   \n",
      "2        Census Tract 145  Westchester County  36119014500   \n",
      "3        Census Tract 139  Westchester County  36119013900   \n",
      "4        Census Tract 136  Westchester County  36119013600   \n",
      "..                    ...                 ...          ...   \n",
      "881   Census Tract 131.02  Westchester County  36119013102   \n",
      "882     Census Tract 1199       Queens County  36081119900   \n",
      "883       Census Tract 63        Bronx County  36005006300   \n",
      "884      Census Tract 113  Westchester County  36119011300   \n",
      "885   Census Tract 107.01  Westchester County  36119010701   \n",
      "\n",
      "     CensusBlockID_list           Zipcode_list  \\\n",
      "0          [2012, 2025]         [10567, 10567]   \n",
      "1                [2016]                [10567]   \n",
      "2                [2002]                [10566]   \n",
      "3    [4024, 3005, 2000]  [10520, 10520, 10520]   \n",
      "4          [3012, 3012]         [10562, 10562]   \n",
      "..                  ...                    ...   \n",
      "881              [3032]                [10514]   \n",
      "882              [1000]                [11358]   \n",
      "883              [2031]                [10451]   \n",
      "884              [3012]                [10533]   \n",
      "885              [2025]                [10583]   \n",
      "\n",
      "                                    Ticket_list Classification_list  Month  \\\n",
      "0                  ['WL20002004', 'WL20002015']          ['M', 'P']      2   \n",
      "1                                ['WL20001788']               ['M']      2   \n",
      "2                                ['WL20001870']               ['M']      2   \n",
      "3    ['WL20001928', 'WL20001626', 'WL20001640']     ['M', 'M', 'P']      2   \n",
      "4                  ['WL20001974', 'WL20001652']          ['P', 'M']      2   \n",
      "..                                          ...                 ...    ...   \n",
      "881                              ['WL18009064']               ['M']      8   \n",
      "882                              ['QL18004912']               ['M']      6   \n",
      "883                              ['XL18005966']               ['M']      5   \n",
      "884                              ['WL18002550']               ['M']      2   \n",
      "885                              ['WL17007806']               ['M']      8   \n",
      "\n",
      "     Year  \n",
      "0    2020  \n",
      "1    2020  \n",
      "2    2020  \n",
      "3    2020  \n",
      "4    2020  \n",
      "..    ...  \n",
      "881  2018  \n",
      "882  2018  \n",
      "883  2018  \n",
      "884  2018  \n",
      "885  2017  \n",
      "\n",
      "[886 rows x 13 columns]\n"
     ]
    }
   ],
   "source": [
    "csvConed = \"DataFiles/GasHistory_2010_ReportFrequency_Monthly.csv\"\n",
    "csvFDNY  = \"DataFiles/FDNY/Geoid_Count2018.csv\"#\"DataFiles/FDNY/FDNY2018.csv\"\n",
    "conedMonthlyDF  = pd.read_csv(csvConed)  \n",
    "fdnyMonthlyDF  = pd.read_csv(csvFDNY)  \n",
    "csvHeader = ['Geoid', 'MonthYear_ConEd', 'NumberOfReports_ConEd', \n",
    "# 'MonthYear_FDNY', 'NumberOfReports_FDNY', \n",
    "'CountyName', 'CensusTract', \"Month\"] \n",
    "months = ['January', 'February', 'March', 'April', 'May', 'June', 'July', 'August', 'September', 'October', 'November', 'December']\n",
    "vsDF = pd.DataFrame()\n",
    "for col in range(0, len(csvHeader)):\n",
    "    vsDF[csvHeader[col]] = str\n",
    "\n",
    "\n",
    "MIN_NUM_TRACTS_NEEDED_TO_PRINT = 140\n",
    "coned_CENSUS_TRACT_COL = \"CensusTract_2010\"\n",
    "coned_TOTAL_REPORT     = \"TotalReports\"\n",
    "coned_COUNTY_NAME      = \"CountyName_2010\"\n",
    "coned_GEOID            = \"GEOID_SCT\"\n",
    "fdny_TOTAL_REPORT      = \"NumberOfReports\"\n",
    "fdny_GEOID             = \"Geoid\"\n",
    "\n",
    "# FIXING FDNY DATA: Spliting Time col to Month and Year and then adding new col that is Month-yyyy string like my con ed data \n",
    "fdnyMonthlyDF[['Month', 'Year']] = fdnyMonthlyDF.Time.str.split(\"/\",expand=True)                                    \n",
    "fdnyMonthlyDF[['Month', 'Year']] = fdnyMonthlyDF[['Month', 'Year']].apply(pd.to_numeric)                     \n",
    "fdnyMonthlyDF = fdnyMonthlyDF.sort_values(by=['Year', 'Month'], ascending=False).drop(columns=['Time'])\n",
    "fdnyMonthlyDF = fdnyMonthlyDF.reset_index(drop=True)  \n",
    "fdnyMonthlyDF[\"MonthYear\"] = str\n",
    "for row in range(0, len(fdnyMonthlyDF)): \n",
    "    monthYearStr = months[int(fdnyMonthlyDF.iloc[row][\"Month\"])-1]+\"-\"+str(fdnyMonthlyDF.iloc[row][\"Year\"])\n",
    "    fdnyMonthlyDF.at[row, \"MonthYear\"] = monthYearStr\n",
    "print(\"---------- FDNY Data for 2018 ----------\\n\")\n",
    "print(fdnyMonthlyDF)\n",
    "print(\"---------- ConEdison Data for Dec 2019, Jan 2020, Feb 2020 ----------\\n\")\n",
    "print(conedMonthlyDF)"
   ]
  },
  {
   "cell_type": "code",
   "execution_count": 4,
   "metadata": {},
   "outputs": [
    {
     "name": "stdout",
     "output_type": "stream",
     "text": [
      "--- DF that have the geoids of ConEdison and the number of report in that geoid at that month for ConEd and NYFD ---\n",
      "           Geoid MonthYear_ConEd  NumberOfReports_ConEd     CountyName  \\\n",
      "0    36081162100   February-2020                      1  Queens County   \n",
      "1    36081152902   February-2020                      2  Queens County   \n",
      "2    36081134100   February-2020                      1  Queens County   \n",
      "3    36081127700   February-2020                      1  Queens County   \n",
      "4    36081122701   February-2020                      1  Queens County   \n",
      "..           ...             ...                    ...            ...   \n",
      "275  36005006500   December-2019                      1   Bronx County   \n",
      "276  36005006300   December-2019                      1   Bronx County   \n",
      "277  36005004001   December-2019                      1   Bronx County   \n",
      "278  36005002800   December-2019                      1   Bronx County   \n",
      "279  36005000400   December-2019                      1   Bronx County   \n",
      "\n",
      "     CensusTract  Month  NumberOfReports_FDNY  Year MonthYear_FDNY  \n",
      "0        1621.00      2                     1  2018  February-2018  \n",
      "1        1529.02      2                     1  2018  February-2018  \n",
      "2        1341.00      2                     2  2018  February-2018  \n",
      "3        1277.00      2                     2  2018  February-2018  \n",
      "4        1227.01      2                     3  2018  February-2018  \n",
      "..           ...    ...                   ...   ...            ...  \n",
      "275        65.00     12                     2  2018  December-2018  \n",
      "276        63.00     12                     2  2018  December-2018  \n",
      "277        40.01     12                     1  2018  December-2018  \n",
      "278        28.00     12                     2  2018  December-2018  \n",
      "279         4.00     12                     1  2018  December-2018  \n",
      "\n",
      "[280 rows x 9 columns]\n"
     ]
    }
   ],
   "source": [
    "# CONEDISON: POPULATING COLUMNS FOR CON EDISON AND OTHERS: Need to do this to seperate usable months that got enough data in my conedison monthly csv \n",
    "skipMonthIndex = []\n",
    "conedMonthList = list()\n",
    "for row in range(0,len(conedMonthlyDF)):\n",
    "    if row in skipMonthIndex:\n",
    "        continue\n",
    "    # SAME MONTH SEPERATION:\n",
    "    thisMonthsDF = conedMonthlyDF.loc[                                                                               \n",
    "        (conedMonthlyDF['MonthYear']  == conedMonthlyDF['MonthYear'][row])\n",
    "    ]  \n",
    "    if len(thisMonthsDF) <= MIN_NUM_TRACTS_NEEDED_TO_PRINT:                                                                                  \n",
    "        continue\n",
    "    skipMonthIndex.extend(thisMonthsDF.index.tolist())\n",
    "    thisMonthsDF = thisMonthsDF.reset_index(drop=True)\n",
    "    thisMonthYrStr = conedMonthlyDF['MonthYear'][row]  \n",
    "    thisMonths_vsDF = pd.DataFrame(columns=csvHeader)  \n",
    "    for row in range(0,len(thisMonthsDF)): \n",
    "        tempDF = pd.DataFrame(columns=csvHeader)  \n",
    "        tempDF.at[0,\"MonthYear_ConEd\"]       = thisMonthsDF.iloc[row][\"MonthYear\"]\n",
    "        tempDF.at[0,\"Geoid\"]                 = int(thisMonthsDF.iloc[row][coned_GEOID])\n",
    "        tempDF.at[0,\"NumberOfReports_ConEd\"] = thisMonthsDF.iloc[row][coned_TOTAL_REPORT]\n",
    "        tempDF.at[0,\"CountyName\"]            = thisMonthsDF.iloc[row][coned_COUNTY_NAME]\n",
    "        tempDF.at[0,\"CensusTract\"]           = thisMonthsDF.iloc[row][coned_CENSUS_TRACT_COL]\n",
    "        tempDF.at[0,\"Month\"]                 = int(thisMonthsDF.iloc[row][\"Month\"])\n",
    "        thisMonths_vsDF = pd.concat([thisMonths_vsDF,tempDF])\n",
    "    thisMonths_vsDF = thisMonths_vsDF.reset_index(drop=True)     \n",
    "    \n",
    "    # # print(thisMonths_vsDF.to_string())\n",
    "    # fig = px.scatter(thisMonths_vsDF, x=\"ConEd_NumberOfReports\", y=\"FDNY_NumberOfReports\", color=\"CountyName\", hover_data=['MonthYear', 'geoid',\"CensusTract\" ])\n",
    "    # fig.update_layout(title='Number of Con Edison Gas Leak Reports Every Hour in ')\n",
    "    # fig.show() \n",
    "    vsDF = pd.concat([vsDF,thisMonths_vsDF])\n",
    "vsDF = vsDF.reset_index(drop=True)    \n",
    "vsDF[['Geoid', 'Month', 'CensusTract', 'NumberOfReports_ConEd']] = vsDF[['Geoid', 'Month', 'CensusTract', 'NumberOfReports_ConEd']].apply(pd.to_numeric) \n",
    "fdnyMonthlyDF = fdnyMonthlyDF.rename(columns={\"NumberOfReports\": \"NumberOfReports_FDNY\", \"MonthYear\": \"MonthYear_FDNY\"})\n",
    "\n",
    "vsDF = vsDF.merge(fdnyMonthlyDF, left_on=['Geoid','Month'], right_on=['Geoid','Month'])\n",
    "print(\"--- DF that have the geoids of ConEdison and the number of report in that geoid at that month for ConEd and NYFD ---\")\n",
    "print(vsDF)\n"
   ]
  },
  {
   "cell_type": "code",
   "execution_count": 6,
   "metadata": {
    "scrolled": true
   },
   "outputs": [
    {
     "name": "stdout",
     "output_type": "stream",
     "text": [
      "------------------------ SHOWING THE SAME SCATTER PLOT ( not interactive ) ------------------------\n"
     ]
    },
    {
     "data": {
      "image/png": "[encoded data removed]",
      "text/plain": [
       "<Figure size 432x288 with 1 Axes>"
      ]
     },
     "metadata": {
      "needs_background": "light"
     },
     "output_type": "display_data"
    }
   ],
   "source": [
    "print(\"------------------------ SHOWING THE SAME SCATTER PLOT ( not interactive ) ------------------------\")\n",
    "# NON INTERACTIVE PLOT:\n",
    "titleStr =  'Number of Inspections Conducted by ConEdison (Dec 2019-Feb 2020) vs \\nNumber of Gas Leak Reports made to NYFD (Jan 2018, Feb 2018, Dec 2018)\\n (Plotting '+str(len(vsDF))+\" dots)\"\n",
    "plt.scatter(vsDF.NumberOfReports_ConEd.values, vsDF.NumberOfReports_FDNY.values,)\n",
    "plt.xlabel('Number of Inspections Conducted by ConEdison')\n",
    "plt.ylabel('Number of Gas Leak Reports made to NYFD')\n",
    "plt.title(titleStr)\n",
    "plt.show()  "
   ]
  },
  {
   "cell_type": "code",
   "execution_count": 7,
   "metadata": {},
   "outputs": [
    {
     "name": "stdout",
     "output_type": "stream",
     "text": [
      "------------------------ SHOWING THE SAME SCATTER PLOT ( interactive ) ------------------------\n"
     ]
    },
    {
     "data": {
      "application/vnd.plotly.v1+json": {
       "config": {
        "plotlyServerURL": "https://plot.ly"
       },
       "data": [
        {
         "customdata": [
          [
           "February-2020",
           "February-2018",
           36081162100,
           1621
          ],
          [
           "February-2020",
           "February-2018",
           36081152902,
           1529.02
          ],
          [
           "February-2020",
           "February-2018",
           36081134100,
           1341
          ],
          [
           "February-2020",
           "February-2018",
           36081127700,
           1277
          ],
          [
           "February-2020",
           "February-2018",
           36081122701,
           1227.01
          ],
          [
           "February-2020",
           "February-2018",
           36081117500,
           1175
          ],
          [
           "February-2020",
           "February-2018",
           36081101700,
           1017
          ],
          [
           "February-2020",
           "February-2018",
           36081099701,
           997.01
          ],
          [
           "February-2020",
           "February-2018",
           36081098700,
           987
          ],
          [
           "February-2020",
           "February-2018",
           36081077904,
           779.04
          ],
          [
           "February-2020",
           "February-2018",
           36081010300,
           103
          ],
          [
           "February-2020",
           "February-2018",
           36081008500,
           85
          ],
          [
           "February-2020",
           "February-2018",
           36081001900,
           19
          ],
          [
           "January-2020",
           "January-2018",
           36081161700,
           1617
          ],
          [
           "January-2020",
           "January-2018",
           36081157903,
           1579.03
          ],
          [
           "January-2020",
           "January-2018",
           36081157901,
           1579.01
          ],
          [
           "January-2020",
           "January-2018",
           36081157101,
           1571.01
          ],
          [
           "January-2020",
           "January-2018",
           36081155102,
           1551.02
          ],
          [
           "January-2020",
           "January-2018",
           36081148300,
           1483
          ],
          [
           "January-2020",
           "January-2018",
           36081146700,
           1467
          ],
          [
           "January-2020",
           "January-2018",
           36081145900,
           1459
          ],
          [
           "January-2020",
           "January-2018",
           36081144100,
           1441
          ],
          [
           "January-2020",
           "January-2018",
           36081140901,
           1409.01
          ],
          [
           "January-2020",
           "January-2018",
           36081136700,
           1367
          ],
          [
           "January-2020",
           "January-2018",
           36081134700,
           1347
          ],
          [
           "January-2020",
           "January-2018",
           36081133300,
           1333
          ],
          [
           "January-2020",
           "January-2018",
           36081129103,
           1291.03
          ],
          [
           "January-2020",
           "January-2018",
           36081127700,
           1277
          ],
          [
           "January-2020",
           "January-2018",
           36081126700,
           1267
          ],
          [
           "January-2020",
           "January-2018",
           36081122300,
           1223
          ],
          [
           "January-2020",
           "January-2018",
           36081117500,
           1175
          ],
          [
           "January-2020",
           "January-2018",
           36081115100,
           1151
          ],
          [
           "January-2020",
           "January-2018",
           36081112900,
           1129
          ],
          [
           "January-2020",
           "January-2018",
           36081103900,
           1039
          ],
          [
           "January-2020",
           "January-2018",
           36081099705,
           997.05
          ],
          [
           "January-2020",
           "January-2018",
           36081099703,
           997.03
          ],
          [
           "January-2020",
           "January-2018",
           36081099701,
           997.01
          ],
          [
           "January-2020",
           "January-2018",
           36081094500,
           945
          ],
          [
           "January-2020",
           "January-2018",
           36081088901,
           889.01
          ],
          [
           "January-2020",
           "January-2018",
           36081087100,
           871
          ],
          [
           "January-2020",
           "January-2018",
           36081086900,
           869
          ],
          [
           "January-2020",
           "January-2018",
           36081083700,
           837
          ],
          [
           "January-2020",
           "January-2018",
           36081080900,
           809
          ],
          [
           "January-2020",
           "January-2018",
           36081077906,
           779.06
          ],
          [
           "January-2020",
           "January-2018",
           36081077904,
           779.04
          ],
          [
           "January-2020",
           "January-2018",
           36081077903,
           779.03
          ],
          [
           "January-2020",
           "January-2018",
           36081077902,
           779.02
          ],
          [
           "January-2020",
           "January-2018",
           36081075701,
           757.01
          ],
          [
           "January-2020",
           "January-2018",
           36081046000,
           460
          ],
          [
           "January-2020",
           "January-2018",
           36081026300,
           263
          ],
          [
           "January-2020",
           "January-2018",
           36081026000,
           260
          ],
          [
           "January-2020",
           "January-2018",
           36081023500,
           235
          ],
          [
           "January-2020",
           "January-2018",
           36081019900,
           199
          ],
          [
           "January-2020",
           "January-2018",
           36081018502,
           185.02
          ],
          [
           "January-2020",
           "January-2018",
           36081015700,
           157
          ],
          [
           "January-2020",
           "January-2018",
           36081014300,
           143
          ],
          [
           "January-2020",
           "January-2018",
           36081012301,
           123.01
          ],
          [
           "January-2020",
           "January-2018",
           36081011300,
           113
          ],
          [
           "January-2020",
           "January-2018",
           36081010300,
           103
          ],
          [
           "January-2020",
           "January-2018",
           36081009700,
           97
          ],
          [
           "January-2020",
           "January-2018",
           36081008300,
           83
          ],
          [
           "January-2020",
           "January-2018",
           36081007900,
           79
          ],
          [
           "January-2020",
           "January-2018",
           36081007700,
           77
          ],
          [
           "January-2020",
           "January-2018",
           36081005100,
           51
          ],
          [
           "January-2020",
           "January-2018",
           36081004500,
           45
          ],
          [
           "December-2019",
           "December-2018",
           36081162100,
           1621
          ],
          [
           "December-2019",
           "December-2018",
           36081155102,
           1551.02
          ],
          [
           "December-2019",
           "December-2018",
           36081150702,
           1507.02
          ],
          [
           "December-2019",
           "December-2018",
           36081146300,
           1463
          ],
          [
           "December-2019",
           "December-2018",
           36081144100,
           1441
          ],
          [
           "December-2019",
           "December-2018",
           36081140902,
           1409.02
          ],
          [
           "December-2019",
           "December-2018",
           36081134700,
           1347
          ],
          [
           "December-2019",
           "December-2018",
           36081124100,
           1241
          ],
          [
           "December-2019",
           "December-2018",
           36081109900,
           1099
          ],
          [
           "December-2019",
           "December-2018",
           36081109300,
           1093
          ],
          [
           "December-2019",
           "December-2018",
           36081105900,
           1059
          ],
          [
           "December-2019",
           "December-2018",
           36081077904,
           779.04
          ],
          [
           "December-2019",
           "December-2018",
           36081077903,
           779.03
          ],
          [
           "December-2019",
           "December-2018",
           36081054200,
           542
          ],
          [
           "December-2019",
           "December-2018",
           36081018101,
           181.01
          ],
          [
           "December-2019",
           "December-2018",
           36081008500,
           85
          ]
         ],
         "hoverlabel": {
          "namelength": 0
         },
         "hovertemplate": "CountyName=Queens County<br>NumberOfReports_ConEd=%{x}<br>NumberOfReports_FDNY=%{y}<br>MonthYear_ConEd=%{customdata[0]}<br>MonthYear_FDNY=%{customdata[1]}<br>Geoid=%{customdata[2]}<br>CensusTract=%{customdata[3]}",
         "legendgroup": "CountyName=Queens County",
         "marker": {
          "color": "#636efa",
          "symbol": "circle"
         },
         "mode": "markers",
         "name": "CountyName=Queens County",
         "showlegend": true,
         "type": "scatter",
         "x": [
          1,
          2,
          1,
          1,
          1,
          1,
          1,
          1,
          1,
          1,
          1,
          1,
          2,
          3,
          1,
          5,
          2,
          8,
          2,
          3,
          1,
          2,
          2,
          1,
          1,
          3,
          2,
          1,
          3,
          2,
          5,
          1,
          1,
          2,
          1,
          1,
          1,
          1,
          1,
          2,
          2,
          1,
          2,
          1,
          1,
          2,
          5,
          1,
          1,
          1,
          1,
          1,
          1,
          1,
          1,
          1,
          3,
          1,
          1,
          3,
          1,
          2,
          1,
          2,
          1,
          2,
          4,
          1,
          2,
          1,
          2,
          2,
          3,
          1,
          2,
          1,
          2,
          1,
          2,
          1,
          1
         ],
         "xaxis": "x",
         "y": [
          1,
          1,
          2,
          2,
          3,
          1,
          2,
          1,
          1,
          2,
          1,
          2,
          2,
          9,
          1,
          5,
          5,
          3,
          2,
          2,
          1,
          2,
          1,
          1,
          1,
          2,
          3,
          6,
          2,
          1,
          1,
          1,
          1,
          1,
          3,
          1,
          2,
          1,
          2,
          2,
          1,
          2,
          4,
          5,
          2,
          1,
          2,
          1,
          2,
          1,
          1,
          3,
          3,
          2,
          1,
          1,
          1,
          2,
          1,
          1,
          1,
          2,
          2,
          3,
          1,
          2,
          1,
          2,
          1,
          2,
          2,
          1,
          1,
          2,
          2,
          1,
          2,
          1,
          1,
          1,
          1
         ],
         "yaxis": "y"
        },
        {
         "customdata": [
          [
           "February-2020",
           "February-2018",
           36061028700,
           287
          ],
          [
           "February-2020",
           "February-2018",
           36061027100,
           271
          ],
          [
           "February-2020",
           "February-2018",
           36061021400,
           214
          ],
          [
           "February-2020",
           "February-2018",
           36061021200,
           212
          ],
          [
           "February-2020",
           "February-2018",
           36061021100,
           211
          ],
          [
           "February-2020",
           "February-2018",
           36061019800,
           198
          ],
          [
           "February-2020",
           "February-2018",
           36061019600,
           196
          ],
          [
           "February-2020",
           "February-2018",
           36061019500,
           195
          ],
          [
           "February-2020",
           "February-2018",
           36061018000,
           180
          ],
          [
           "February-2020",
           "February-2018",
           36061017000,
           170
          ],
          [
           "February-2020",
           "February-2018",
           36061016400,
           164
          ],
          [
           "February-2020",
           "February-2018",
           36061016100,
           161
          ],
          [
           "February-2020",
           "February-2018",
           36061013700,
           137
          ],
          [
           "February-2020",
           "February-2018",
           36061013300,
           133
          ],
          [
           "February-2020",
           "February-2018",
           36061012600,
           126
          ],
          [
           "February-2020",
           "February-2018",
           36061011300,
           113
          ],
          [
           "February-2020",
           "February-2018",
           36061010800,
           108
          ],
          [
           "February-2020",
           "February-2018",
           36061010000,
           100
          ],
          [
           "February-2020",
           "February-2018",
           36061008100,
           81
          ],
          [
           "February-2020",
           "February-2018",
           36061005502,
           55.02
          ],
          [
           "February-2020",
           "February-2018",
           36061004700,
           47
          ],
          [
           "February-2020",
           "February-2018",
           36061004100,
           41
          ],
          [
           "February-2020",
           "February-2018",
           36061004000,
           40
          ],
          [
           "February-2020",
           "February-2018",
           36061003300,
           33
          ],
          [
           "February-2020",
           "February-2018",
           36061002900,
           29
          ],
          [
           "February-2020",
           "February-2018",
           36061002202,
           22.02
          ],
          [
           "February-2020",
           "February-2018",
           36061001800,
           18
          ],
          [
           "February-2020",
           "February-2018",
           36061001501,
           15.01
          ],
          [
           "February-2020",
           "February-2018",
           36061001300,
           13
          ],
          [
           "February-2020",
           "February-2018",
           36061000800,
           8
          ],
          [
           "February-2020",
           "February-2018",
           36061000600,
           6
          ],
          [
           "January-2020",
           "January-2018",
           36061031100,
           311
          ],
          [
           "January-2020",
           "January-2018",
           36061024500,
           245
          ],
          [
           "January-2020",
           "January-2018",
           36061024302,
           243.02
          ],
          [
           "January-2020",
           "January-2018",
           36061024200,
           242
          ],
          [
           "January-2020",
           "January-2018",
           36061023700,
           237
          ],
          [
           "January-2020",
           "January-2018",
           36061023200,
           232
          ],
          [
           "January-2020",
           "January-2018",
           36061021200,
           212
          ],
          [
           "January-2020",
           "January-2018",
           36061020800,
           208
          ],
          [
           "January-2020",
           "January-2018",
           36061019701,
           197.01
          ],
          [
           "January-2020",
           "January-2018",
           36061019300,
           193
          ],
          [
           "January-2020",
           "January-2018",
           36061018900,
           189
          ],
          [
           "January-2020",
           "January-2018",
           36061018800,
           188
          ],
          [
           "January-2020",
           "January-2018",
           36061018500,
           185
          ],
          [
           "January-2020",
           "January-2018",
           36061018300,
           183
          ],
          [
           "January-2020",
           "January-2018",
           36061018200,
           182
          ],
          [
           "January-2020",
           "January-2018",
           36061017900,
           179
          ],
          [
           "January-2020",
           "January-2018",
           36061017500,
           175
          ],
          [
           "January-2020",
           "January-2018",
           36061017402,
           174.02
          ],
          [
           "January-2020",
           "January-2018",
           36061017300,
           173
          ],
          [
           "January-2020",
           "January-2018",
           36061017100,
           171
          ],
          [
           "January-2020",
           "January-2018",
           36061016600,
           166
          ],
          [
           "January-2020",
           "January-2018",
           36061016300,
           163
          ],
          [
           "January-2020",
           "January-2018",
           36061015700,
           157
          ],
          [
           "January-2020",
           "January-2018",
           36061015300,
           153
          ],
          [
           "January-2020",
           "January-2018",
           36061014300,
           143
          ],
          [
           "January-2020",
           "January-2018",
           36061013500,
           135
          ],
          [
           "January-2020",
           "January-2018",
           36061013400,
           134
          ],
          [
           "January-2020",
           "January-2018",
           36061013300,
           133
          ],
          [
           "January-2020",
           "January-2018",
           36061013000,
           130
          ],
          [
           "January-2020",
           "January-2018",
           36061012900,
           129
          ],
          [
           "January-2020",
           "January-2018",
           36061012600,
           126
          ],
          [
           "January-2020",
           "January-2018",
           36061012200,
           122
          ],
          [
           "January-2020",
           "January-2018",
           36061011700,
           117
          ],
          [
           "January-2020",
           "January-2018",
           36061011100,
           111
          ],
          [
           "January-2020",
           "January-2018",
           36061010900,
           109
          ],
          [
           "January-2020",
           "January-2018",
           36061010602,
           106.02
          ],
          [
           "January-2020",
           "January-2018",
           36061010200,
           102
          ],
          [
           "January-2020",
           "January-2018",
           36061010000,
           100
          ],
          [
           "January-2020",
           "January-2018",
           36061009400,
           94
          ],
          [
           "January-2020",
           "January-2018",
           36061009300,
           93
          ],
          [
           "January-2020",
           "January-2018",
           36061009200,
           92
          ],
          [
           "January-2020",
           "January-2018",
           36061007900,
           79
          ],
          [
           "January-2020",
           "January-2018",
           36061007600,
           76
          ],
          [
           "January-2020",
           "January-2018",
           36061007400,
           74
          ],
          [
           "January-2020",
           "January-2018",
           36061007300,
           73
          ],
          [
           "January-2020",
           "January-2018",
           36061007100,
           71
          ],
          [
           "January-2020",
           "January-2018",
           36061007000,
           70
          ],
          [
           "January-2020",
           "January-2018",
           36061006800,
           68
          ],
          [
           "January-2020",
           "January-2018",
           36061006700,
           67
          ],
          [
           "January-2020",
           "January-2018",
           36061006600,
           66
          ],
          [
           "January-2020",
           "January-2018",
           36061006500,
           65
          ],
          [
           "January-2020",
           "January-2018",
           36061005600,
           56
          ],
          [
           "January-2020",
           "January-2018",
           36061005200,
           52
          ],
          [
           "January-2020",
           "January-2018",
           36061005000,
           50
          ],
          [
           "January-2020",
           "January-2018",
           36061004700,
           47
          ],
          [
           "January-2020",
           "January-2018",
           36061004500,
           45
          ],
          [
           "January-2020",
           "January-2018",
           36061004000,
           40
          ],
          [
           "January-2020",
           "January-2018",
           36061003601,
           36.01
          ],
          [
           "January-2020",
           "January-2018",
           36061003200,
           32
          ],
          [
           "January-2020",
           "January-2018",
           36061003002,
           30.02
          ],
          [
           "January-2020",
           "January-2018",
           36061002602,
           26.02
          ],
          [
           "January-2020",
           "January-2018",
           36061001800,
           18
          ],
          [
           "January-2020",
           "January-2018",
           36061001600,
           16
          ],
          [
           "January-2020",
           "January-2018",
           36061001502,
           15.02
          ],
          [
           "January-2020",
           "January-2018",
           36061001501,
           15.01
          ],
          [
           "January-2020",
           "January-2018",
           36061001402,
           14.02
          ],
          [
           "January-2020",
           "January-2018",
           36061000800,
           8
          ],
          [
           "January-2020",
           "January-2018",
           36061000600,
           6
          ],
          [
           "December-2019",
           "December-2018",
           36061024500,
           245
          ],
          [
           "December-2019",
           "December-2018",
           36061023300,
           233
          ],
          [
           "December-2019",
           "December-2018",
           36061018400,
           184
          ],
          [
           "December-2019",
           "December-2018",
           36061017700,
           177
          ],
          [
           "December-2019",
           "December-2018",
           36061017000,
           170
          ],
          [
           "December-2019",
           "December-2018",
           36061016600,
           166
          ],
          [
           "December-2019",
           "December-2018",
           36061016300,
           163
          ],
          [
           "December-2019",
           "December-2018",
           36061015200,
           152
          ],
          [
           "December-2019",
           "December-2018",
           36061014500,
           145
          ],
          [
           "December-2019",
           "December-2018",
           36061014300,
           143
          ],
          [
           "December-2019",
           "December-2018",
           36061013900,
           139
          ],
          [
           "December-2019",
           "December-2018",
           36061011800,
           118
          ],
          [
           "December-2019",
           "December-2018",
           36061011100,
           111
          ],
          [
           "December-2019",
           "December-2018",
           36061009300,
           93
          ],
          [
           "December-2019",
           "December-2018",
           36061008900,
           89
          ],
          [
           "December-2019",
           "December-2018",
           36061007600,
           76
          ],
          [
           "December-2019",
           "December-2018",
           36061006600,
           66
          ],
          [
           "December-2019",
           "December-2018",
           36061005800,
           58
          ],
          [
           "December-2019",
           "December-2018",
           36061005000,
           50
          ],
          [
           "December-2019",
           "December-2018",
           36061004700,
           47
          ],
          [
           "December-2019",
           "December-2018",
           36061003900,
           39
          ],
          [
           "December-2019",
           "December-2018",
           36061003700,
           37
          ],
          [
           "December-2019",
           "December-2018",
           36061003300,
           33
          ],
          [
           "December-2019",
           "December-2018",
           36061003200,
           32
          ],
          [
           "December-2019",
           "December-2018",
           36061003001,
           30.01
          ],
          [
           "December-2019",
           "December-2018",
           36061001501,
           15.01
          ],
          [
           "December-2019",
           "December-2018",
           36061001402,
           14.02
          ]
         ],
         "hoverlabel": {
          "namelength": 0
         },
         "hovertemplate": "CountyName=New York County<br>NumberOfReports_ConEd=%{x}<br>NumberOfReports_FDNY=%{y}<br>MonthYear_ConEd=%{customdata[0]}<br>MonthYear_FDNY=%{customdata[1]}<br>Geoid=%{customdata[2]}<br>CensusTract=%{customdata[3]}",
         "legendgroup": "CountyName=New York County",
         "marker": {
          "color": "#EF553B",
          "symbol": "circle"
         },
         "mode": "markers",
         "name": "CountyName=New York County",
         "showlegend": true,
         "type": "scatter",
         "x": [
          1,
          1,
          1,
          1,
          1,
          1,
          1,
          1,
          1,
          2,
          1,
          1,
          1,
          1,
          1,
          1,
          1,
          1,
          1,
          1,
          1,
          1,
          1,
          1,
          1,
          1,
          1,
          3,
          1,
          1,
          1,
          1,
          1,
          1,
          1,
          2,
          1,
          1,
          1,
          1,
          3,
          1,
          1,
          1,
          1,
          1,
          1,
          1,
          1,
          1,
          3,
          3,
          1,
          2,
          1,
          1,
          1,
          1,
          1,
          1,
          3,
          1,
          1,
          1,
          4,
          4,
          1,
          2,
          1,
          2,
          1,
          2,
          2,
          2,
          2,
          1,
          1,
          1,
          1,
          1,
          1,
          1,
          1,
          1,
          1,
          1,
          1,
          1,
          1,
          2,
          1,
          2,
          2,
          1,
          1,
          4,
          1,
          1,
          3,
          2,
          1,
          1,
          1,
          1,
          2,
          1,
          1,
          1,
          1,
          1,
          1,
          1,
          1,
          2,
          2,
          1,
          2,
          1,
          2,
          1,
          1,
          1,
          3,
          2,
          1,
          1
         ],
         "xaxis": "x",
         "y": [
          1,
          2,
          2,
          3,
          6,
          2,
          3,
          2,
          2,
          2,
          1,
          3,
          2,
          4,
          5,
          1,
          1,
          3,
          12,
          1,
          1,
          1,
          1,
          3,
          2,
          2,
          2,
          4,
          1,
          1,
          1,
          1,
          7,
          8,
          6,
          2,
          13,
          2,
          2,
          1,
          2,
          6,
          1,
          1,
          2,
          2,
          2,
          1,
          1,
          2,
          4,
          4,
          1,
          4,
          1,
          7,
          1,
          4,
          3,
          1,
          5,
          2,
          1,
          1,
          2,
          1,
          1,
          1,
          1,
          2,
          5,
          1,
          2,
          1,
          4,
          7,
          6,
          1,
          1,
          2,
          1,
          2,
          2,
          1,
          2,
          4,
          2,
          2,
          1,
          6,
          2,
          2,
          2,
          2,
          2,
          2,
          1,
          2,
          5,
          8,
          3,
          3,
          1,
          3,
          1,
          1,
          1,
          1,
          3,
          4,
          3,
          1,
          2,
          4,
          1,
          2,
          2,
          1,
          1,
          1,
          1,
          5,
          7,
          3,
          2,
          3
         ],
         "yaxis": "y"
        },
        {
         "customdata": [
          [
           "February-2020",
           "February-2018",
           36005046202,
           462.02
          ],
          [
           "February-2020",
           "February-2018",
           36005042902,
           429.02
          ],
          [
           "February-2020",
           "February-2018",
           36005038600,
           386
          ],
          [
           "February-2020",
           "February-2018",
           36005034800,
           348
          ],
          [
           "February-2020",
           "February-2018",
           36005034500,
           345
          ],
          [
           "February-2020",
           "February-2018",
           36005033400,
           334
          ],
          [
           "February-2020",
           "February-2018",
           36005032300,
           323
          ],
          [
           "February-2020",
           "February-2018",
           36005028800,
           288
          ],
          [
           "February-2020",
           "February-2018",
           36005027402,
           274.02
          ],
          [
           "February-2020",
           "February-2018",
           36005023000,
           230
          ],
          [
           "February-2020",
           "February-2018",
           36005021502,
           215.02
          ],
          [
           "February-2020",
           "February-2018",
           36005021002,
           210.02
          ],
          [
           "February-2020",
           "February-2018",
           36005014100,
           141
          ],
          [
           "February-2020",
           "February-2018",
           36005013800,
           138
          ],
          [
           "February-2020",
           "February-2018",
           36005005400,
           54
          ],
          [
           "February-2020",
           "February-2018",
           36005004600,
           46
          ],
          [
           "February-2020",
           "February-2018",
           36005002800,
           28
          ],
          [
           "January-2020",
           "January-2018",
           36005051600,
           516
          ],
          [
           "January-2020",
           "January-2018",
           36005046201,
           462.01
          ],
          [
           "January-2020",
           "January-2018",
           36005045600,
           456
          ],
          [
           "January-2020",
           "January-2018",
           36005042600,
           426
          ],
          [
           "January-2020",
           "January-2018",
           36005042400,
           424
          ],
          [
           "January-2020",
           "January-2018",
           36005039000,
           390
          ],
          [
           "January-2020",
           "January-2018",
           36005038500,
           385
          ],
          [
           "January-2020",
           "January-2018",
           36005036400,
           364
          ],
          [
           "January-2020",
           "January-2018",
           36005034300,
           343
          ],
          [
           "January-2020",
           "January-2018",
           36005034000,
           340
          ],
          [
           "January-2020",
           "January-2018",
           36005032600,
           326
          ],
          [
           "January-2020",
           "January-2018",
           36005032400,
           324
          ],
          [
           "January-2020",
           "January-2018",
           36005031800,
           318
          ],
          [
           "January-2020",
           "January-2018",
           36005026701,
           267.01
          ],
          [
           "January-2020",
           "January-2018",
           36005026500,
           265
          ],
          [
           "January-2020",
           "January-2018",
           36005025100,
           251
          ],
          [
           "January-2020",
           "January-2018",
           36005024000,
           240
          ],
          [
           "January-2020",
           "January-2018",
           36005022901,
           229.01
          ],
          [
           "January-2020",
           "January-2018",
           36005022500,
           225
          ],
          [
           "January-2020",
           "January-2018",
           36005021800,
           218
          ],
          [
           "January-2020",
           "January-2018",
           36005021700,
           217
          ],
          [
           "January-2020",
           "January-2018",
           36005021302,
           213.02
          ],
          [
           "January-2020",
           "January-2018",
           36005019900,
           199
          ],
          [
           "January-2020",
           "January-2018",
           36005019500,
           195
          ],
          [
           "January-2020",
           "January-2018",
           36005015300,
           153
          ],
          [
           "January-2020",
           "January-2018",
           36005014900,
           149
          ],
          [
           "January-2020",
           "January-2018",
           36005013800,
           138
          ],
          [
           "January-2020",
           "January-2018",
           36005012901,
           129.01
          ],
          [
           "January-2020",
           "January-2018",
           36005012500,
           125
          ],
          [
           "January-2020",
           "January-2018",
           36005011900,
           119
          ],
          [
           "January-2020",
           "January-2018",
           36005011800,
           118
          ],
          [
           "January-2020",
           "January-2018",
           36005009300,
           93
          ],
          [
           "January-2020",
           "January-2018",
           36005007100,
           71
          ],
          [
           "January-2020",
           "January-2018",
           36005006700,
           67
          ],
          [
           "January-2020",
           "January-2018",
           36005006300,
           63
          ],
          [
           "January-2020",
           "January-2018",
           36005003900,
           39
          ],
          [
           "January-2020",
           "January-2018",
           36005001900,
           19
          ],
          [
           "January-2020",
           "January-2018",
           36005000200,
           2
          ],
          [
           "December-2019",
           "December-2018",
           36005051600,
           516
          ],
          [
           "December-2019",
           "December-2018",
           36005042600,
           426
          ],
          [
           "December-2019",
           "December-2018",
           36005041400,
           414
          ],
          [
           "December-2019",
           "December-2018",
           36005040600,
           406
          ],
          [
           "December-2019",
           "December-2018",
           36005038500,
           385
          ],
          [
           "December-2019",
           "December-2018",
           36005038200,
           382
          ],
          [
           "December-2019",
           "December-2018",
           36005037100,
           371
          ],
          [
           "December-2019",
           "December-2018",
           36005032800,
           328
          ],
          [
           "December-2019",
           "December-2018",
           36005029700,
           297
          ],
          [
           "December-2019",
           "December-2018",
           36005027300,
           273
          ],
          [
           "December-2019",
           "December-2018",
           36005022902,
           229.02
          ],
          [
           "December-2019",
           "December-2018",
           36005013800,
           138
          ],
          [
           "December-2019",
           "December-2018",
           36005009300,
           93
          ],
          [
           "December-2019",
           "December-2018",
           36005006500,
           65
          ],
          [
           "December-2019",
           "December-2018",
           36005006300,
           63
          ],
          [
           "December-2019",
           "December-2018",
           36005004001,
           40.01
          ],
          [
           "December-2019",
           "December-2018",
           36005002800,
           28
          ],
          [
           "December-2019",
           "December-2018",
           36005000400,
           4
          ]
         ],
         "hoverlabel": {
          "namelength": 0
         },
         "hovertemplate": "CountyName=Bronx County<br>NumberOfReports_ConEd=%{x}<br>NumberOfReports_FDNY=%{y}<br>MonthYear_ConEd=%{customdata[0]}<br>MonthYear_FDNY=%{customdata[1]}<br>Geoid=%{customdata[2]}<br>CensusTract=%{customdata[3]}",
         "legendgroup": "CountyName=Bronx County",
         "marker": {
          "color": "#00cc96",
          "symbol": "circle"
         },
         "mode": "markers",
         "name": "CountyName=Bronx County",
         "showlegend": true,
         "type": "scatter",
         "x": [
          1,
          1,
          1,
          1,
          1,
          1,
          1,
          1,
          1,
          1,
          1,
          1,
          1,
          1,
          1,
          1,
          1,
          10,
          1,
          2,
          2,
          1,
          1,
          1,
          1,
          1,
          1,
          1,
          1,
          1,
          1,
          1,
          1,
          1,
          1,
          1,
          1,
          1,
          2,
          2,
          1,
          1,
          1,
          1,
          1,
          1,
          1,
          1,
          1,
          1,
          1,
          1,
          1,
          1,
          1,
          1,
          1,
          1,
          1,
          1,
          1,
          1,
          1,
          1,
          2,
          1,
          1,
          1,
          1,
          1,
          1,
          1,
          1
         ],
         "xaxis": "x",
         "y": [
          2,
          1,
          2,
          1,
          4,
          1,
          2,
          1,
          1,
          2,
          1,
          1,
          3,
          2,
          1,
          3,
          1,
          1,
          13,
          1,
          2,
          1,
          4,
          2,
          1,
          1,
          2,
          1,
          1,
          3,
          3,
          2,
          4,
          1,
          1,
          3,
          1,
          1,
          2,
          4,
          2,
          3,
          2,
          2,
          4,
          2,
          3,
          1,
          6,
          2,
          3,
          3,
          5,
          6,
          1,
          4,
          2,
          2,
          1,
          3,
          2,
          1,
          1,
          2,
          3,
          2,
          4,
          3,
          2,
          2,
          1,
          2,
          1
         ],
         "yaxis": "y"
        }
       ],
       "layout": {
        "legend": {
         "tracegroupgap": 0
        },
        "margin": {
         "t": 60
        },
        "template": {
         "data": {
          "bar": [
           {
            "error_x": {
             "color": "#2a3f5f"
            },
            "error_y": {
             "color": "#2a3f5f"
            },
            "marker": {
             "line": {
              "color": "#E5ECF6",
              "width": 0.5
             }
            },
            "type": "bar"
           }
          ],
          "barpolar": [
           {
            "marker": {
             "line": {
              "color": "#E5ECF6",
              "width": 0.5
             }
            },
            "type": "barpolar"
           }
          ],
          "carpet": [
           {
            "aaxis": {
             "endlinecolor": "#2a3f5f",
             "gridcolor": "white",
             "linecolor": "white",
             "minorgridcolor": "white",
             "startlinecolor": "#2a3f5f"
            },
            "baxis": {
             "endlinecolor": "#2a3f5f",
             "gridcolor": "white",
             "linecolor": "white",
             "minorgridcolor": "white",
             "startlinecolor": "#2a3f5f"
            },
            "type": "carpet"
           }
          ],
          "choropleth": [
           {
            "colorbar": {
             "outlinewidth": 0,
             "ticks": ""
            },
            "type": "choropleth"
           }
          ],
          "contour": [
           {
            "colorbar": {
             "outlinewidth": 0,
             "ticks": ""
            },
            "colorscale": [
             [
              0,
              "#0d0887"
             ],
             [
              0.1111111111111111,
              "#46039f"
             ],
             [
              0.2222222222222222,
              "#7201a8"
             ],
             [
              0.3333333333333333,
              "#9c179e"
             ],
             [
              0.4444444444444444,
              "#bd3786"
             ],
             [
              0.5555555555555556,
              "#d8576b"
             ],
             [
              0.6666666666666666,
              "#ed7953"
             ],
             [
              0.7777777777777778,
              "#fb9f3a"
             ],
             [
              0.8888888888888888,
              "#fdca26"
             ],
             [
              1,
              "#f0f921"
             ]
            ],
            "type": "contour"
           }
          ],
          "contourcarpet": [
           {
            "colorbar": {
             "outlinewidth": 0,
             "ticks": ""
            },
            "type": "contourcarpet"
           }
          ],
          "heatmap": [
           {
            "colorbar": {
             "outlinewidth": 0,
             "ticks": ""
            },
            "colorscale": [
             [
              0,
              "#0d0887"
             ],
             [
              0.1111111111111111,
              "#46039f"
             ],
             [
              0.2222222222222222,
              "#7201a8"
             ],
             [
              0.3333333333333333,
              "#9c179e"
             ],
             [
              0.4444444444444444,
              "#bd3786"
             ],
             [
              0.5555555555555556,
              "#d8576b"
             ],
             [
              0.6666666666666666,
              "#ed7953"
             ],
             [
              0.7777777777777778,
              "#fb9f3a"
             ],
             [
              0.8888888888888888,
              "#fdca26"
             ],
             [
              1,
              "#f0f921"
             ]
            ],
            "type": "heatmap"
           }
          ],
          "heatmapgl": [
           {
            "colorbar": {
             "outlinewidth": 0,
             "ticks": ""
            },
            "colorscale": [
             [
              0,
              "#0d0887"
             ],
             [
              0.1111111111111111,
              "#46039f"
             ],
             [
              0.2222222222222222,
              "#7201a8"
             ],
             [
              0.3333333333333333,
              "#9c179e"
             ],
             [
              0.4444444444444444,
              "#bd3786"
             ],
             [
              0.5555555555555556,
              "#d8576b"
             ],
             [
              0.6666666666666666,
              "#ed7953"
             ],
             [
              0.7777777777777778,
              "#fb9f3a"
             ],
             [
              0.8888888888888888,
              "#fdca26"
             ],
             [
              1,
              "#f0f921"
             ]
            ],
            "type": "heatmapgl"
           }
          ],
          "histogram": [
           {
            "marker": {
             "colorbar": {
              "outlinewidth": 0,
              "ticks": ""
             }
            },
            "type": "histogram"
           }
          ],
          "histogram2d": [
           {
            "colorbar": {
             "outlinewidth": 0,
             "ticks": ""
            },
            "colorscale": [
             [
              0,
              "#0d0887"
             ],
             [
              0.1111111111111111,
              "#46039f"
             ],
             [
              0.2222222222222222,
              "#7201a8"
             ],
             [
              0.3333333333333333,
              "#9c179e"
             ],
             [
              0.4444444444444444,
              "#bd3786"
             ],
             [
              0.5555555555555556,
              "#d8576b"
             ],
             [
              0.6666666666666666,
              "#ed7953"
             ],
             [
              0.7777777777777778,
              "#fb9f3a"
             ],
             [
              0.8888888888888888,
              "#fdca26"
             ],
             [
              1,
              "#f0f921"
             ]
            ],
            "type": "histogram2d"
           }
          ],
          "histogram2dcontour": [
           {
            "colorbar": {
             "outlinewidth": 0,
             "ticks": ""
            },
            "colorscale": [
             [
              0,
              "#0d0887"
             ],
             [
              0.1111111111111111,
              "#46039f"
             ],
             [
              0.2222222222222222,
              "#7201a8"
             ],
             [
              0.3333333333333333,
              "#9c179e"
             ],
             [
              0.4444444444444444,
              "#bd3786"
             ],
             [
              0.5555555555555556,
              "#d8576b"
             ],
             [
              0.6666666666666666,
              "#ed7953"
             ],
             [
              0.7777777777777778,
              "#fb9f3a"
             ],
             [
              0.8888888888888888,
              "#fdca26"
             ],
             [
              1,
              "#f0f921"
             ]
            ],
            "type": "histogram2dcontour"
           }
          ],
          "mesh3d": [
           {
            "colorbar": {
             "outlinewidth": 0,
             "ticks": ""
            },
            "type": "mesh3d"
           }
          ],
          "parcoords": [
           {
            "line": {
             "colorbar": {
              "outlinewidth": 0,
              "ticks": ""
             }
            },
            "type": "parcoords"
           }
          ],
          "pie": [
           {
            "automargin": true,
            "type": "pie"
           }
          ],
          "scatter": [
           {
            "marker": {
             "colorbar": {
              "outlinewidth": 0,
              "ticks": ""
             }
            },
            "type": "scatter"
           }
          ],
          "scatter3d": [
           {
            "line": {
             "colorbar": {
              "outlinewidth": 0,
              "ticks": ""
             }
            },
            "marker": {
             "colorbar": {
              "outlinewidth": 0,
              "ticks": ""
             }
            },
            "type": "scatter3d"
           }
          ],
          "scattercarpet": [
           {
            "marker": {
             "colorbar": {
              "outlinewidth": 0,
              "ticks": ""
             }
            },
            "type": "scattercarpet"
           }
          ],
          "scattergeo": [
           {
            "marker": {
             "colorbar": {
              "outlinewidth": 0,
              "ticks": ""
             }
            },
            "type": "scattergeo"
           }
          ],
          "scattergl": [
           {
            "marker": {
             "colorbar": {
              "outlinewidth": 0,
              "ticks": ""
             }
            },
            "type": "scattergl"
           }
          ],
          "scattermapbox": [
           {
            "marker": {
             "colorbar": {
              "outlinewidth": 0,
              "ticks": ""
             }
            },
            "type": "scattermapbox"
           }
          ],
          "scatterpolar": [
           {
            "marker": {
             "colorbar": {
              "outlinewidth": 0,
              "ticks": ""
             }
            },
            "type": "scatterpolar"
           }
          ],
          "scatterpolargl": [
           {
            "marker": {
             "colorbar": {
              "outlinewidth": 0,
              "ticks": ""
             }
            },
            "type": "scatterpolargl"
           }
          ],
          "scatterternary": [
           {
            "marker": {
             "colorbar": {
              "outlinewidth": 0,
              "ticks": ""
             }
            },
            "type": "scatterternary"
           }
          ],
          "surface": [
           {
            "colorbar": {
             "outlinewidth": 0,
             "ticks": ""
            },
            "colorscale": [
             [
              0,
              "#0d0887"
             ],
             [
              0.1111111111111111,
              "#46039f"
             ],
             [
              0.2222222222222222,
              "#7201a8"
             ],
             [
              0.3333333333333333,
              "#9c179e"
             ],
             [
              0.4444444444444444,
              "#bd3786"
             ],
             [
              0.5555555555555556,
              "#d8576b"
             ],
             [
              0.6666666666666666,
              "#ed7953"
             ],
             [
              0.7777777777777778,
              "#fb9f3a"
             ],
             [
              0.8888888888888888,
              "#fdca26"
             ],
             [
              1,
              "#f0f921"
             ]
            ],
            "type": "surface"
           }
          ],
          "table": [
           {
            "cells": {
             "fill": {
              "color": "#EBF0F8"
             },
             "line": {
              "color": "white"
             }
            },
            "header": {
             "fill": {
              "color": "#C8D4E3"
             },
             "line": {
              "color": "white"
             }
            },
            "type": "table"
           }
          ]
         },
         "layout": {
          "annotationdefaults": {
           "arrowcolor": "#2a3f5f",
           "arrowhead": 0,
           "arrowwidth": 1
          },
          "coloraxis": {
           "colorbar": {
            "outlinewidth": 0,
            "ticks": ""
           }
          },
          "colorscale": {
           "diverging": [
            [
             0,
             "#8e0152"
            ],
            [
             0.1,
             "#c51b7d"
            ],
            [
             0.2,
             "#de77ae"
            ],
            [
             0.3,
             "#f1b6da"
            ],
            [
             0.4,
             "#fde0ef"
            ],
            [
             0.5,
             "#f7f7f7"
            ],
            [
             0.6,
             "#e6f5d0"
            ],
            [
             0.7,
             "#b8e186"
            ],
            [
             0.8,
             "#7fbc41"
            ],
            [
             0.9,
             "#4d9221"
            ],
            [
             1,
             "#276419"
            ]
           ],
           "sequential": [
            [
             0,
             "#0d0887"
            ],
            [
             0.1111111111111111,
             "#46039f"
            ],
            [
             0.2222222222222222,
             "#7201a8"
            ],
            [
             0.3333333333333333,
             "#9c179e"
            ],
            [
             0.4444444444444444,
             "#bd3786"
            ],
            [
             0.5555555555555556,
             "#d8576b"
            ],
            [
             0.6666666666666666,
             "#ed7953"
            ],
            [
             0.7777777777777778,
             "#fb9f3a"
            ],
            [
             0.8888888888888888,
             "#fdca26"
            ],
            [
             1,
             "#f0f921"
            ]
           ],
           "sequentialminus": [
            [
             0,
             "#0d0887"
            ],
            [
             0.1111111111111111,
             "#46039f"
            ],
            [
             0.2222222222222222,
             "#7201a8"
            ],
            [
             0.3333333333333333,
             "#9c179e"
            ],
            [
             0.4444444444444444,
             "#bd3786"
            ],
            [
             0.5555555555555556,
             "#d8576b"
            ],
            [
             0.6666666666666666,
             "#ed7953"
            ],
            [
             0.7777777777777778,
             "#fb9f3a"
            ],
            [
             0.8888888888888888,
             "#fdca26"
            ],
            [
             1,
             "#f0f921"
            ]
           ]
          },
          "colorway": [
           "#636efa",
           "#EF553B",
           "#00cc96",
           "#ab63fa",
           "#FFA15A",
           "#19d3f3",
           "#FF6692",
           "#B6E880",
           "#FF97FF",
           "#FECB52"
          ],
          "font": {
           "color": "#2a3f5f"
          },
          "geo": {
           "bgcolor": "white",
           "lakecolor": "white",
           "landcolor": "#E5ECF6",
           "showlakes": true,
           "showland": true,
           "subunitcolor": "white"
          },
          "hoverlabel": {
           "align": "left"
          },
          "hovermode": "closest",
          "mapbox": {
           "style": "light"
          },
          "paper_bgcolor": "white",
          "plot_bgcolor": "#E5ECF6",
          "polar": {
           "angularaxis": {
            "gridcolor": "white",
            "linecolor": "white",
            "ticks": ""
           },
           "bgcolor": "#E5ECF6",
           "radialaxis": {
            "gridcolor": "white",
            "linecolor": "white",
            "ticks": ""
           }
          },
          "scene": {
           "xaxis": {
            "backgroundcolor": "#E5ECF6",
            "gridcolor": "white",
            "gridwidth": 2,
            "linecolor": "white",
            "showbackground": true,
            "ticks": "",
            "zerolinecolor": "white"
           },
           "yaxis": {
            "backgroundcolor": "#E5ECF6",
            "gridcolor": "white",
            "gridwidth": 2,
            "linecolor": "white",
            "showbackground": true,
            "ticks": "",
            "zerolinecolor": "white"
           },
           "zaxis": {
            "backgroundcolor": "#E5ECF6",
            "gridcolor": "white",
            "gridwidth": 2,
            "linecolor": "white",
            "showbackground": true,
            "ticks": "",
            "zerolinecolor": "white"
           }
          },
          "shapedefaults": {
           "line": {
            "color": "#2a3f5f"
           }
          },
          "ternary": {
           "aaxis": {
            "gridcolor": "white",
            "linecolor": "white",
            "ticks": ""
           },
           "baxis": {
            "gridcolor": "white",
            "linecolor": "white",
            "ticks": ""
           },
           "bgcolor": "#E5ECF6",
           "caxis": {
            "gridcolor": "white",
            "linecolor": "white",
            "ticks": ""
           }
          },
          "title": {
           "x": 0.05
          },
          "xaxis": {
           "automargin": true,
           "gridcolor": "white",
           "linecolor": "white",
           "ticks": "",
           "title": {
            "standoff": 15
           },
           "zerolinecolor": "white",
           "zerolinewidth": 2
          },
          "yaxis": {
           "automargin": true,
           "gridcolor": "white",
           "linecolor": "white",
           "ticks": "",
           "title": {
            "standoff": 15
           },
           "zerolinecolor": "white",
           "zerolinewidth": 2
          }
         }
        },
        "title": {
         "text": "Number of Inspections Conducted by ConEdison vs \nNumber of Gas Leak Reports made to NYFD \n(Plotting 280 dots)"
        },
        "xaxis": {
         "anchor": "y",
         "domain": [
          0,
          1
         ],
         "title": {
          "text": "NumberOfReports_ConEd"
         }
        },
        "yaxis": {
         "anchor": "x",
         "domain": [
          0,
          1
         ],
         "title": {
          "text": "NumberOfReports_FDNY"
         }
        }
       }
      },
      "text/html": [
       "<div>\n",
       "        \n",
       "        \n",
       "            <div id=\"3b27deb4-3ecc-4871-9d28-58c2d6b9c061\" class=\"plotly-graph-div\" style=\"height:525px; width:100%;\"></div>\n",
       "            <script type=\"text/javascript\">\n",
       "                require([\"plotly\"], function(Plotly) {\n",
       "                    window.PLOTLYENV=window.PLOTLYENV || {};\n",
       "                    \n",
       "                if (document.getElementById(\"3b27deb4-3ecc-4871-9d28-58c2d6b9c061\")) {\n",
       "                    Plotly.newPlot(\n",
       "                        '3b27deb4-3ecc-4871-9d28-58c2d6b9c061',\n",
       "                        [{\"customdata\": [[\"February-2020\", \"February-2018\", 36081162100, 1621.0], [\"February-2020\", \"February-2018\", 36081152902, 1529.02], [\"February-2020\", \"February-2018\", 36081134100, 1341.0], [\"February-2020\", \"February-2018\", 36081127700, 1277.0], [\"February-2020\", \"February-2018\", 36081122701, 1227.01], [\"February-2020\", \"February-2018\", 36081117500, 1175.0], [\"February-2020\", \"February-2018\", 36081101700, 1017.0], [\"February-2020\", \"February-2018\", 36081099701, 997.01], [\"February-2020\", \"February-2018\", 36081098700, 987.0], [\"February-2020\", \"February-2018\", 36081077904, 779.04], [\"February-2020\", \"February-2018\", 36081010300, 103.0], [\"February-2020\", \"February-2018\", 36081008500, 85.0], [\"February-2020\", \"February-2018\", 36081001900, 19.0], [\"January-2020\", \"January-2018\", 36081161700, 1617.0], [\"January-2020\", \"January-2018\", 36081157903, 1579.03], [\"January-2020\", \"January-2018\", 36081157901, 1579.01], [\"January-2020\", \"January-2018\", 36081157101, 1571.01], [\"January-2020\", \"January-2018\", 36081155102, 1551.02], [\"January-2020\", \"January-2018\", 36081148300, 1483.0], [\"January-2020\", \"January-2018\", 36081146700, 1467.0], [\"January-2020\", \"January-2018\", 36081145900, 1459.0], [\"January-2020\", \"January-2018\", 36081144100, 1441.0], [\"January-2020\", \"January-2018\", 36081140901, 1409.01], [\"January-2020\", \"January-2018\", 36081136700, 1367.0], [\"January-2020\", \"January-2018\", 36081134700, 1347.0], [\"January-2020\", \"January-2018\", 36081133300, 1333.0], [\"January-2020\", \"January-2018\", 36081129103, 1291.03], [\"January-2020\", \"January-2018\", 36081127700, 1277.0], [\"January-2020\", \"January-2018\", 36081126700, 1267.0], [\"January-2020\", \"January-2018\", 36081122300, 1223.0], [\"January-2020\", \"January-2018\", 36081117500, 1175.0], [\"January-2020\", \"January-2018\", 36081115100, 1151.0], [\"January-2020\", \"January-2018\", 36081112900, 1129.0], [\"January-2020\", \"January-2018\", 36081103900, 1039.0], [\"January-2020\", \"January-2018\", 36081099705, 997.05], [\"January-2020\", \"January-2018\", 36081099703, 997.03], [\"January-2020\", \"January-2018\", 36081099701, 997.01], [\"January-2020\", \"January-2018\", 36081094500, 945.0], [\"January-2020\", \"January-2018\", 36081088901, 889.01], [\"January-2020\", \"January-2018\", 36081087100, 871.0], [\"January-2020\", \"January-2018\", 36081086900, 869.0], [\"January-2020\", \"January-2018\", 36081083700, 837.0], [\"January-2020\", \"January-2018\", 36081080900, 809.0], [\"January-2020\", \"January-2018\", 36081077906, 779.06], [\"January-2020\", \"January-2018\", 36081077904, 779.04], [\"January-2020\", \"January-2018\", 36081077903, 779.03], [\"January-2020\", \"January-2018\", 36081077902, 779.02], [\"January-2020\", \"January-2018\", 36081075701, 757.01], [\"January-2020\", \"January-2018\", 36081046000, 460.0], [\"January-2020\", \"January-2018\", 36081026300, 263.0], [\"January-2020\", \"January-2018\", 36081026000, 260.0], [\"January-2020\", \"January-2018\", 36081023500, 235.0], [\"January-2020\", \"January-2018\", 36081019900, 199.0], [\"January-2020\", \"January-2018\", 36081018502, 185.02], [\"January-2020\", \"January-2018\", 36081015700, 157.0], [\"January-2020\", \"January-2018\", 36081014300, 143.0], [\"January-2020\", \"January-2018\", 36081012301, 123.01], [\"January-2020\", \"January-2018\", 36081011300, 113.0], [\"January-2020\", \"January-2018\", 36081010300, 103.0], [\"January-2020\", \"January-2018\", 36081009700, 97.0], [\"January-2020\", \"January-2018\", 36081008300, 83.0], [\"January-2020\", \"January-2018\", 36081007900, 79.0], [\"January-2020\", \"January-2018\", 36081007700, 77.0], [\"January-2020\", \"January-2018\", 36081005100, 51.0], [\"January-2020\", \"January-2018\", 36081004500, 45.0], [\"December-2019\", \"December-2018\", 36081162100, 1621.0], [\"December-2019\", \"December-2018\", 36081155102, 1551.02], [\"December-2019\", \"December-2018\", 36081150702, 1507.02], [\"December-2019\", \"December-2018\", 36081146300, 1463.0], [\"December-2019\", \"December-2018\", 36081144100, 1441.0], [\"December-2019\", \"December-2018\", 36081140902, 1409.02], [\"December-2019\", \"December-2018\", 36081134700, 1347.0], [\"December-2019\", \"December-2018\", 36081124100, 1241.0], [\"December-2019\", \"December-2018\", 36081109900, 1099.0], [\"December-2019\", \"December-2018\", 36081109300, 1093.0], [\"December-2019\", \"December-2018\", 36081105900, 1059.0], [\"December-2019\", \"December-2018\", 36081077904, 779.04], [\"December-2019\", \"December-2018\", 36081077903, 779.03], [\"December-2019\", \"December-2018\", 36081054200, 542.0], [\"December-2019\", \"December-2018\", 36081018101, 181.01], [\"December-2019\", \"December-2018\", 36081008500, 85.0]], \"hoverlabel\": {\"namelength\": 0}, \"hovertemplate\": \"CountyName=Queens County<br>NumberOfReports_ConEd=%{x}<br>NumberOfReports_FDNY=%{y}<br>MonthYear_ConEd=%{customdata[0]}<br>MonthYear_FDNY=%{customdata[1]}<br>Geoid=%{customdata[2]}<br>CensusTract=%{customdata[3]}\", \"legendgroup\": \"CountyName=Queens County\", \"marker\": {\"color\": \"#636efa\", \"symbol\": \"circle\"}, \"mode\": \"markers\", \"name\": \"CountyName=Queens County\", \"showlegend\": true, \"type\": \"scatter\", \"x\": [1, 2, 1, 1, 1, 1, 1, 1, 1, 1, 1, 1, 2, 3, 1, 5, 2, 8, 2, 3, 1, 2, 2, 1, 1, 3, 2, 1, 3, 2, 5, 1, 1, 2, 1, 1, 1, 1, 1, 2, 2, 1, 2, 1, 1, 2, 5, 1, 1, 1, 1, 1, 1, 1, 1, 1, 3, 1, 1, 3, 1, 2, 1, 2, 1, 2, 4, 1, 2, 1, 2, 2, 3, 1, 2, 1, 2, 1, 2, 1, 1], \"xaxis\": \"x\", \"y\": [1, 1, 2, 2, 3, 1, 2, 1, 1, 2, 1, 2, 2, 9, 1, 5, 5, 3, 2, 2, 1, 2, 1, 1, 1, 2, 3, 6, 2, 1, 1, 1, 1, 1, 3, 1, 2, 1, 2, 2, 1, 2, 4, 5, 2, 1, 2, 1, 2, 1, 1, 3, 3, 2, 1, 1, 1, 2, 1, 1, 1, 2, 2, 3, 1, 2, 1, 2, 1, 2, 2, 1, 1, 2, 2, 1, 2, 1, 1, 1, 1], \"yaxis\": \"y\"}, {\"customdata\": [[\"February-2020\", \"February-2018\", 36061028700, 287.0], [\"February-2020\", \"February-2018\", 36061027100, 271.0], [\"February-2020\", \"February-2018\", 36061021400, 214.0], [\"February-2020\", \"February-2018\", 36061021200, 212.0], [\"February-2020\", \"February-2018\", 36061021100, 211.0], [\"February-2020\", \"February-2018\", 36061019800, 198.0], [\"February-2020\", \"February-2018\", 36061019600, 196.0], [\"February-2020\", \"February-2018\", 36061019500, 195.0], [\"February-2020\", \"February-2018\", 36061018000, 180.0], [\"February-2020\", \"February-2018\", 36061017000, 170.0], [\"February-2020\", \"February-2018\", 36061016400, 164.0], [\"February-2020\", \"February-2018\", 36061016100, 161.0], [\"February-2020\", \"February-2018\", 36061013700, 137.0], [\"February-2020\", \"February-2018\", 36061013300, 133.0], [\"February-2020\", \"February-2018\", 36061012600, 126.0], [\"February-2020\", \"February-2018\", 36061011300, 113.0], [\"February-2020\", \"February-2018\", 36061010800, 108.0], [\"February-2020\", \"February-2018\", 36061010000, 100.0], [\"February-2020\", \"February-2018\", 36061008100, 81.0], [\"February-2020\", \"February-2018\", 36061005502, 55.02], [\"February-2020\", \"February-2018\", 36061004700, 47.0], [\"February-2020\", \"February-2018\", 36061004100, 41.0], [\"February-2020\", \"February-2018\", 36061004000, 40.0], [\"February-2020\", \"February-2018\", 36061003300, 33.0], [\"February-2020\", \"February-2018\", 36061002900, 29.0], [\"February-2020\", \"February-2018\", 36061002202, 22.02], [\"February-2020\", \"February-2018\", 36061001800, 18.0], [\"February-2020\", \"February-2018\", 36061001501, 15.01], [\"February-2020\", \"February-2018\", 36061001300, 13.0], [\"February-2020\", \"February-2018\", 36061000800, 8.0], [\"February-2020\", \"February-2018\", 36061000600, 6.0], [\"January-2020\", \"January-2018\", 36061031100, 311.0], [\"January-2020\", \"January-2018\", 36061024500, 245.0], [\"January-2020\", \"January-2018\", 36061024302, 243.02], [\"January-2020\", \"January-2018\", 36061024200, 242.0], [\"January-2020\", \"January-2018\", 36061023700, 237.0], [\"January-2020\", \"January-2018\", 36061023200, 232.0], [\"January-2020\", \"January-2018\", 36061021200, 212.0], [\"January-2020\", \"January-2018\", 36061020800, 208.0], [\"January-2020\", \"January-2018\", 36061019701, 197.01], [\"January-2020\", \"January-2018\", 36061019300, 193.0], [\"January-2020\", \"January-2018\", 36061018900, 189.0], [\"January-2020\", \"January-2018\", 36061018800, 188.0], [\"January-2020\", \"January-2018\", 36061018500, 185.0], [\"January-2020\", \"January-2018\", 36061018300, 183.0], [\"January-2020\", \"January-2018\", 36061018200, 182.0], [\"January-2020\", \"January-2018\", 36061017900, 179.0], [\"January-2020\", \"January-2018\", 36061017500, 175.0], [\"January-2020\", \"January-2018\", 36061017402, 174.02], [\"January-2020\", \"January-2018\", 36061017300, 173.0], [\"January-2020\", \"January-2018\", 36061017100, 171.0], [\"January-2020\", \"January-2018\", 36061016600, 166.0], [\"January-2020\", \"January-2018\", 36061016300, 163.0], [\"January-2020\", \"January-2018\", 36061015700, 157.0], [\"January-2020\", \"January-2018\", 36061015300, 153.0], [\"January-2020\", \"January-2018\", 36061014300, 143.0], [\"January-2020\", \"January-2018\", 36061013500, 135.0], [\"January-2020\", \"January-2018\", 36061013400, 134.0], [\"January-2020\", \"January-2018\", 36061013300, 133.0], [\"January-2020\", \"January-2018\", 36061013000, 130.0], [\"January-2020\", \"January-2018\", 36061012900, 129.0], [\"January-2020\", \"January-2018\", 36061012600, 126.0], [\"January-2020\", \"January-2018\", 36061012200, 122.0], [\"January-2020\", \"January-2018\", 36061011700, 117.0], [\"January-2020\", \"January-2018\", 36061011100, 111.0], [\"January-2020\", \"January-2018\", 36061010900, 109.0], [\"January-2020\", \"January-2018\", 36061010602, 106.02], [\"January-2020\", \"January-2018\", 36061010200, 102.0], [\"January-2020\", \"January-2018\", 36061010000, 100.0], [\"January-2020\", \"January-2018\", 36061009400, 94.0], [\"January-2020\", \"January-2018\", 36061009300, 93.0], [\"January-2020\", \"January-2018\", 36061009200, 92.0], [\"January-2020\", \"January-2018\", 36061007900, 79.0], [\"January-2020\", \"January-2018\", 36061007600, 76.0], [\"January-2020\", \"January-2018\", 36061007400, 74.0], [\"January-2020\", \"January-2018\", 36061007300, 73.0], [\"January-2020\", \"January-2018\", 36061007100, 71.0], [\"January-2020\", \"January-2018\", 36061007000, 70.0], [\"January-2020\", \"January-2018\", 36061006800, 68.0], [\"January-2020\", \"January-2018\", 36061006700, 67.0], [\"January-2020\", \"January-2018\", 36061006600, 66.0], [\"January-2020\", \"January-2018\", 36061006500, 65.0], [\"January-2020\", \"January-2018\", 36061005600, 56.0], [\"January-2020\", \"January-2018\", 36061005200, 52.0], [\"January-2020\", \"January-2018\", 36061005000, 50.0], [\"January-2020\", \"January-2018\", 36061004700, 47.0], [\"January-2020\", \"January-2018\", 36061004500, 45.0], [\"January-2020\", \"January-2018\", 36061004000, 40.0], [\"January-2020\", \"January-2018\", 36061003601, 36.01], [\"January-2020\", \"January-2018\", 36061003200, 32.0], [\"January-2020\", \"January-2018\", 36061003002, 30.02], [\"January-2020\", \"January-2018\", 36061002602, 26.02], [\"January-2020\", \"January-2018\", 36061001800, 18.0], [\"January-2020\", \"January-2018\", 36061001600, 16.0], [\"January-2020\", \"January-2018\", 36061001502, 15.02], [\"January-2020\", \"January-2018\", 36061001501, 15.01], [\"January-2020\", \"January-2018\", 36061001402, 14.02], [\"January-2020\", \"January-2018\", 36061000800, 8.0], [\"January-2020\", \"January-2018\", 36061000600, 6.0], [\"December-2019\", \"December-2018\", 36061024500, 245.0], [\"December-2019\", \"December-2018\", 36061023300, 233.0], [\"December-2019\", \"December-2018\", 36061018400, 184.0], [\"December-2019\", \"December-2018\", 36061017700, 177.0], [\"December-2019\", \"December-2018\", 36061017000, 170.0], [\"December-2019\", \"December-2018\", 36061016600, 166.0], [\"December-2019\", \"December-2018\", 36061016300, 163.0], [\"December-2019\", \"December-2018\", 36061015200, 152.0], [\"December-2019\", \"December-2018\", 36061014500, 145.0], [\"December-2019\", \"December-2018\", 36061014300, 143.0], [\"December-2019\", \"December-2018\", 36061013900, 139.0], [\"December-2019\", \"December-2018\", 36061011800, 118.0], [\"December-2019\", \"December-2018\", 36061011100, 111.0], [\"December-2019\", \"December-2018\", 36061009300, 93.0], [\"December-2019\", \"December-2018\", 36061008900, 89.0], [\"December-2019\", \"December-2018\", 36061007600, 76.0], [\"December-2019\", \"December-2018\", 36061006600, 66.0], [\"December-2019\", \"December-2018\", 36061005800, 58.0], [\"December-2019\", \"December-2018\", 36061005000, 50.0], [\"December-2019\", \"December-2018\", 36061004700, 47.0], [\"December-2019\", \"December-2018\", 36061003900, 39.0], [\"December-2019\", \"December-2018\", 36061003700, 37.0], [\"December-2019\", \"December-2018\", 36061003300, 33.0], [\"December-2019\", \"December-2018\", 36061003200, 32.0], [\"December-2019\", \"December-2018\", 36061003001, 30.01], [\"December-2019\", \"December-2018\", 36061001501, 15.01], [\"December-2019\", \"December-2018\", 36061001402, 14.02]], \"hoverlabel\": {\"namelength\": 0}, \"hovertemplate\": \"CountyName=New York County<br>NumberOfReports_ConEd=%{x}<br>NumberOfReports_FDNY=%{y}<br>MonthYear_ConEd=%{customdata[0]}<br>MonthYear_FDNY=%{customdata[1]}<br>Geoid=%{customdata[2]}<br>CensusTract=%{customdata[3]}\", \"legendgroup\": \"CountyName=New York County\", \"marker\": {\"color\": \"#EF553B\", \"symbol\": \"circle\"}, \"mode\": \"markers\", \"name\": \"CountyName=New York County\", \"showlegend\": true, \"type\": \"scatter\", \"x\": [1, 1, 1, 1, 1, 1, 1, 1, 1, 2, 1, 1, 1, 1, 1, 1, 1, 1, 1, 1, 1, 1, 1, 1, 1, 1, 1, 3, 1, 1, 1, 1, 1, 1, 1, 2, 1, 1, 1, 1, 3, 1, 1, 1, 1, 1, 1, 1, 1, 1, 3, 3, 1, 2, 1, 1, 1, 1, 1, 1, 3, 1, 1, 1, 4, 4, 1, 2, 1, 2, 1, 2, 2, 2, 2, 1, 1, 1, 1, 1, 1, 1, 1, 1, 1, 1, 1, 1, 1, 2, 1, 2, 2, 1, 1, 4, 1, 1, 3, 2, 1, 1, 1, 1, 2, 1, 1, 1, 1, 1, 1, 1, 1, 2, 2, 1, 2, 1, 2, 1, 1, 1, 3, 2, 1, 1], \"xaxis\": \"x\", \"y\": [1, 2, 2, 3, 6, 2, 3, 2, 2, 2, 1, 3, 2, 4, 5, 1, 1, 3, 12, 1, 1, 1, 1, 3, 2, 2, 2, 4, 1, 1, 1, 1, 7, 8, 6, 2, 13, 2, 2, 1, 2, 6, 1, 1, 2, 2, 2, 1, 1, 2, 4, 4, 1, 4, 1, 7, 1, 4, 3, 1, 5, 2, 1, 1, 2, 1, 1, 1, 1, 2, 5, 1, 2, 1, 4, 7, 6, 1, 1, 2, 1, 2, 2, 1, 2, 4, 2, 2, 1, 6, 2, 2, 2, 2, 2, 2, 1, 2, 5, 8, 3, 3, 1, 3, 1, 1, 1, 1, 3, 4, 3, 1, 2, 4, 1, 2, 2, 1, 1, 1, 1, 5, 7, 3, 2, 3], \"yaxis\": \"y\"}, {\"customdata\": [[\"February-2020\", \"February-2018\", 36005046202, 462.02], [\"February-2020\", \"February-2018\", 36005042902, 429.02], [\"February-2020\", \"February-2018\", 36005038600, 386.0], [\"February-2020\", \"February-2018\", 36005034800, 348.0], [\"February-2020\", \"February-2018\", 36005034500, 345.0], [\"February-2020\", \"February-2018\", 36005033400, 334.0], [\"February-2020\", \"February-2018\", 36005032300, 323.0], [\"February-2020\", \"February-2018\", 36005028800, 288.0], [\"February-2020\", \"February-2018\", 36005027402, 274.02], [\"February-2020\", \"February-2018\", 36005023000, 230.0], [\"February-2020\", \"February-2018\", 36005021502, 215.02], [\"February-2020\", \"February-2018\", 36005021002, 210.02], [\"February-2020\", \"February-2018\", 36005014100, 141.0], [\"February-2020\", \"February-2018\", 36005013800, 138.0], [\"February-2020\", \"February-2018\", 36005005400, 54.0], [\"February-2020\", \"February-2018\", 36005004600, 46.0], [\"February-2020\", \"February-2018\", 36005002800, 28.0], [\"January-2020\", \"January-2018\", 36005051600, 516.0], [\"January-2020\", \"January-2018\", 36005046201, 462.01], [\"January-2020\", \"January-2018\", 36005045600, 456.0], [\"January-2020\", \"January-2018\", 36005042600, 426.0], [\"January-2020\", \"January-2018\", 36005042400, 424.0], [\"January-2020\", \"January-2018\", 36005039000, 390.0], [\"January-2020\", \"January-2018\", 36005038500, 385.0], [\"January-2020\", \"January-2018\", 36005036400, 364.0], [\"January-2020\", \"January-2018\", 36005034300, 343.0], [\"January-2020\", \"January-2018\", 36005034000, 340.0], [\"January-2020\", \"January-2018\", 36005032600, 326.0], [\"January-2020\", \"January-2018\", 36005032400, 324.0], [\"January-2020\", \"January-2018\", 36005031800, 318.0], [\"January-2020\", \"January-2018\", 36005026701, 267.01], [\"January-2020\", \"January-2018\", 36005026500, 265.0], [\"January-2020\", \"January-2018\", 36005025100, 251.0], [\"January-2020\", \"January-2018\", 36005024000, 240.0], [\"January-2020\", \"January-2018\", 36005022901, 229.01], [\"January-2020\", \"January-2018\", 36005022500, 225.0], [\"January-2020\", \"January-2018\", 36005021800, 218.0], [\"January-2020\", \"January-2018\", 36005021700, 217.0], [\"January-2020\", \"January-2018\", 36005021302, 213.02], [\"January-2020\", \"January-2018\", 36005019900, 199.0], [\"January-2020\", \"January-2018\", 36005019500, 195.0], [\"January-2020\", \"January-2018\", 36005015300, 153.0], [\"January-2020\", \"January-2018\", 36005014900, 149.0], [\"January-2020\", \"January-2018\", 36005013800, 138.0], [\"January-2020\", \"January-2018\", 36005012901, 129.01], [\"January-2020\", \"January-2018\", 36005012500, 125.0], [\"January-2020\", \"January-2018\", 36005011900, 119.0], [\"January-2020\", \"January-2018\", 36005011800, 118.0], [\"January-2020\", \"January-2018\", 36005009300, 93.0], [\"January-2020\", \"January-2018\", 36005007100, 71.0], [\"January-2020\", \"January-2018\", 36005006700, 67.0], [\"January-2020\", \"January-2018\", 36005006300, 63.0], [\"January-2020\", \"January-2018\", 36005003900, 39.0], [\"January-2020\", \"January-2018\", 36005001900, 19.0], [\"January-2020\", \"January-2018\", 36005000200, 2.0], [\"December-2019\", \"December-2018\", 36005051600, 516.0], [\"December-2019\", \"December-2018\", 36005042600, 426.0], [\"December-2019\", \"December-2018\", 36005041400, 414.0], [\"December-2019\", \"December-2018\", 36005040600, 406.0], [\"December-2019\", \"December-2018\", 36005038500, 385.0], [\"December-2019\", \"December-2018\", 36005038200, 382.0], [\"December-2019\", \"December-2018\", 36005037100, 371.0], [\"December-2019\", \"December-2018\", 36005032800, 328.0], [\"December-2019\", \"December-2018\", 36005029700, 297.0], [\"December-2019\", \"December-2018\", 36005027300, 273.0], [\"December-2019\", \"December-2018\", 36005022902, 229.02], [\"December-2019\", \"December-2018\", 36005013800, 138.0], [\"December-2019\", \"December-2018\", 36005009300, 93.0], [\"December-2019\", \"December-2018\", 36005006500, 65.0], [\"December-2019\", \"December-2018\", 36005006300, 63.0], [\"December-2019\", \"December-2018\", 36005004001, 40.01], [\"December-2019\", \"December-2018\", 36005002800, 28.0], [\"December-2019\", \"December-2018\", 36005000400, 4.0]], \"hoverlabel\": {\"namelength\": 0}, \"hovertemplate\": \"CountyName=Bronx County<br>NumberOfReports_ConEd=%{x}<br>NumberOfReports_FDNY=%{y}<br>MonthYear_ConEd=%{customdata[0]}<br>MonthYear_FDNY=%{customdata[1]}<br>Geoid=%{customdata[2]}<br>CensusTract=%{customdata[3]}\", \"legendgroup\": \"CountyName=Bronx County\", \"marker\": {\"color\": \"#00cc96\", \"symbol\": \"circle\"}, \"mode\": \"markers\", \"name\": \"CountyName=Bronx County\", \"showlegend\": true, \"type\": \"scatter\", \"x\": [1, 1, 1, 1, 1, 1, 1, 1, 1, 1, 1, 1, 1, 1, 1, 1, 1, 10, 1, 2, 2, 1, 1, 1, 1, 1, 1, 1, 1, 1, 1, 1, 1, 1, 1, 1, 1, 1, 2, 2, 1, 1, 1, 1, 1, 1, 1, 1, 1, 1, 1, 1, 1, 1, 1, 1, 1, 1, 1, 1, 1, 1, 1, 1, 2, 1, 1, 1, 1, 1, 1, 1, 1], \"xaxis\": \"x\", \"y\": [2, 1, 2, 1, 4, 1, 2, 1, 1, 2, 1, 1, 3, 2, 1, 3, 1, 1, 13, 1, 2, 1, 4, 2, 1, 1, 2, 1, 1, 3, 3, 2, 4, 1, 1, 3, 1, 1, 2, 4, 2, 3, 2, 2, 4, 2, 3, 1, 6, 2, 3, 3, 5, 6, 1, 4, 2, 2, 1, 3, 2, 1, 1, 2, 3, 2, 4, 3, 2, 2, 1, 2, 1], \"yaxis\": \"y\"}],\n",
       "                        {\"legend\": {\"tracegroupgap\": 0}, \"margin\": {\"t\": 60}, \"template\": {\"data\": {\"bar\": [{\"error_x\": {\"color\": \"#2a3f5f\"}, \"error_y\": {\"color\": \"#2a3f5f\"}, \"marker\": {\"line\": {\"color\": \"#E5ECF6\", \"width\": 0.5}}, \"type\": \"bar\"}], \"barpolar\": [{\"marker\": {\"line\": {\"color\": \"#E5ECF6\", \"width\": 0.5}}, \"type\": \"barpolar\"}], \"carpet\": [{\"aaxis\": {\"endlinecolor\": \"#2a3f5f\", \"gridcolor\": \"white\", \"linecolor\": \"white\", \"minorgridcolor\": \"white\", \"startlinecolor\": \"#2a3f5f\"}, \"baxis\": {\"endlinecolor\": \"#2a3f5f\", \"gridcolor\": \"white\", \"linecolor\": \"white\", \"minorgridcolor\": \"white\", \"startlinecolor\": \"#2a3f5f\"}, \"type\": \"carpet\"}], \"choropleth\": [{\"colorbar\": {\"outlinewidth\": 0, \"ticks\": \"\"}, \"type\": \"choropleth\"}], \"contour\": [{\"colorbar\": {\"outlinewidth\": 0, \"ticks\": \"\"}, \"colorscale\": [[0.0, \"#0d0887\"], [0.1111111111111111, \"#46039f\"], [0.2222222222222222, \"#7201a8\"], [0.3333333333333333, \"#9c179e\"], [0.4444444444444444, \"#bd3786\"], [0.5555555555555556, \"#d8576b\"], [0.6666666666666666, \"#ed7953\"], [0.7777777777777778, \"#fb9f3a\"], [0.8888888888888888, \"#fdca26\"], [1.0, \"#f0f921\"]], \"type\": \"contour\"}], \"contourcarpet\": [{\"colorbar\": {\"outlinewidth\": 0, \"ticks\": \"\"}, \"type\": \"contourcarpet\"}], \"heatmap\": [{\"colorbar\": {\"outlinewidth\": 0, \"ticks\": \"\"}, \"colorscale\": [[0.0, \"#0d0887\"], [0.1111111111111111, \"#46039f\"], [0.2222222222222222, \"#7201a8\"], [0.3333333333333333, \"#9c179e\"], [0.4444444444444444, \"#bd3786\"], [0.5555555555555556, \"#d8576b\"], [0.6666666666666666, \"#ed7953\"], [0.7777777777777778, \"#fb9f3a\"], [0.8888888888888888, \"#fdca26\"], [1.0, \"#f0f921\"]], \"type\": \"heatmap\"}], \"heatmapgl\": [{\"colorbar\": {\"outlinewidth\": 0, \"ticks\": \"\"}, \"colorscale\": [[0.0, \"#0d0887\"], [0.1111111111111111, \"#46039f\"], [0.2222222222222222, \"#7201a8\"], [0.3333333333333333, \"#9c179e\"], [0.4444444444444444, \"#bd3786\"], [0.5555555555555556, \"#d8576b\"], [0.6666666666666666, \"#ed7953\"], [0.7777777777777778, \"#fb9f3a\"], [0.8888888888888888, \"#fdca26\"], [1.0, \"#f0f921\"]], \"type\": \"heatmapgl\"}], \"histogram\": [{\"marker\": {\"colorbar\": {\"outlinewidth\": 0, \"ticks\": \"\"}}, \"type\": \"histogram\"}], \"histogram2d\": [{\"colorbar\": {\"outlinewidth\": 0, \"ticks\": \"\"}, \"colorscale\": [[0.0, \"#0d0887\"], [0.1111111111111111, \"#46039f\"], [0.2222222222222222, \"#7201a8\"], [0.3333333333333333, \"#9c179e\"], [0.4444444444444444, \"#bd3786\"], [0.5555555555555556, \"#d8576b\"], [0.6666666666666666, \"#ed7953\"], [0.7777777777777778, \"#fb9f3a\"], [0.8888888888888888, \"#fdca26\"], [1.0, \"#f0f921\"]], \"type\": \"histogram2d\"}], \"histogram2dcontour\": [{\"colorbar\": {\"outlinewidth\": 0, \"ticks\": \"\"}, \"colorscale\": [[0.0, \"#0d0887\"], [0.1111111111111111, \"#46039f\"], [0.2222222222222222, \"#7201a8\"], [0.3333333333333333, \"#9c179e\"], [0.4444444444444444, \"#bd3786\"], [0.5555555555555556, \"#d8576b\"], [0.6666666666666666, \"#ed7953\"], [0.7777777777777778, \"#fb9f3a\"], [0.8888888888888888, \"#fdca26\"], [1.0, \"#f0f921\"]], \"type\": \"histogram2dcontour\"}], \"mesh3d\": [{\"colorbar\": {\"outlinewidth\": 0, \"ticks\": \"\"}, \"type\": \"mesh3d\"}], \"parcoords\": [{\"line\": {\"colorbar\": {\"outlinewidth\": 0, \"ticks\": \"\"}}, \"type\": \"parcoords\"}], \"pie\": [{\"automargin\": true, \"type\": \"pie\"}], \"scatter\": [{\"marker\": {\"colorbar\": {\"outlinewidth\": 0, \"ticks\": \"\"}}, \"type\": \"scatter\"}], \"scatter3d\": [{\"line\": {\"colorbar\": {\"outlinewidth\": 0, \"ticks\": \"\"}}, \"marker\": {\"colorbar\": {\"outlinewidth\": 0, \"ticks\": \"\"}}, \"type\": \"scatter3d\"}], \"scattercarpet\": [{\"marker\": {\"colorbar\": {\"outlinewidth\": 0, \"ticks\": \"\"}}, \"type\": \"scattercarpet\"}], \"scattergeo\": [{\"marker\": {\"colorbar\": {\"outlinewidth\": 0, \"ticks\": \"\"}}, \"type\": \"scattergeo\"}], \"scattergl\": [{\"marker\": {\"colorbar\": {\"outlinewidth\": 0, \"ticks\": \"\"}}, \"type\": \"scattergl\"}], \"scattermapbox\": [{\"marker\": {\"colorbar\": {\"outlinewidth\": 0, \"ticks\": \"\"}}, \"type\": \"scattermapbox\"}], \"scatterpolar\": [{\"marker\": {\"colorbar\": {\"outlinewidth\": 0, \"ticks\": \"\"}}, \"type\": \"scatterpolar\"}], \"scatterpolargl\": [{\"marker\": {\"colorbar\": {\"outlinewidth\": 0, \"ticks\": \"\"}}, \"type\": \"scatterpolargl\"}], \"scatterternary\": [{\"marker\": {\"colorbar\": {\"outlinewidth\": 0, \"ticks\": \"\"}}, \"type\": \"scatterternary\"}], \"surface\": [{\"colorbar\": {\"outlinewidth\": 0, \"ticks\": \"\"}, \"colorscale\": [[0.0, \"#0d0887\"], [0.1111111111111111, \"#46039f\"], [0.2222222222222222, \"#7201a8\"], [0.3333333333333333, \"#9c179e\"], [0.4444444444444444, \"#bd3786\"], [0.5555555555555556, \"#d8576b\"], [0.6666666666666666, \"#ed7953\"], [0.7777777777777778, \"#fb9f3a\"], [0.8888888888888888, \"#fdca26\"], [1.0, \"#f0f921\"]], \"type\": \"surface\"}], \"table\": [{\"cells\": {\"fill\": {\"color\": \"#EBF0F8\"}, \"line\": {\"color\": \"white\"}}, \"header\": {\"fill\": {\"color\": \"#C8D4E3\"}, \"line\": {\"color\": \"white\"}}, \"type\": \"table\"}]}, \"layout\": {\"annotationdefaults\": {\"arrowcolor\": \"#2a3f5f\", \"arrowhead\": 0, \"arrowwidth\": 1}, \"coloraxis\": {\"colorbar\": {\"outlinewidth\": 0, \"ticks\": \"\"}}, \"colorscale\": {\"diverging\": [[0, \"#8e0152\"], [0.1, \"#c51b7d\"], [0.2, \"#de77ae\"], [0.3, \"#f1b6da\"], [0.4, \"#fde0ef\"], [0.5, \"#f7f7f7\"], [0.6, \"#e6f5d0\"], [0.7, \"#b8e186\"], [0.8, \"#7fbc41\"], [0.9, \"#4d9221\"], [1, \"#276419\"]], \"sequential\": [[0.0, \"#0d0887\"], [0.1111111111111111, \"#46039f\"], [0.2222222222222222, \"#7201a8\"], [0.3333333333333333, \"#9c179e\"], [0.4444444444444444, \"#bd3786\"], [0.5555555555555556, \"#d8576b\"], [0.6666666666666666, \"#ed7953\"], [0.7777777777777778, \"#fb9f3a\"], [0.8888888888888888, \"#fdca26\"], [1.0, \"#f0f921\"]], \"sequentialminus\": [[0.0, \"#0d0887\"], [0.1111111111111111, \"#46039f\"], [0.2222222222222222, \"#7201a8\"], [0.3333333333333333, \"#9c179e\"], [0.4444444444444444, \"#bd3786\"], [0.5555555555555556, \"#d8576b\"], [0.6666666666666666, \"#ed7953\"], [0.7777777777777778, \"#fb9f3a\"], [0.8888888888888888, \"#fdca26\"], [1.0, \"#f0f921\"]]}, \"colorway\": [\"#636efa\", \"#EF553B\", \"#00cc96\", \"#ab63fa\", \"#FFA15A\", \"#19d3f3\", \"#FF6692\", \"#B6E880\", \"#FF97FF\", \"#FECB52\"], \"font\": {\"color\": \"#2a3f5f\"}, \"geo\": {\"bgcolor\": \"white\", \"lakecolor\": \"white\", \"landcolor\": \"#E5ECF6\", \"showlakes\": true, \"showland\": true, \"subunitcolor\": \"white\"}, \"hoverlabel\": {\"align\": \"left\"}, \"hovermode\": \"closest\", \"mapbox\": {\"style\": \"light\"}, \"paper_bgcolor\": \"white\", \"plot_bgcolor\": \"#E5ECF6\", \"polar\": {\"angularaxis\": {\"gridcolor\": \"white\", \"linecolor\": \"white\", \"ticks\": \"\"}, \"bgcolor\": \"#E5ECF6\", \"radialaxis\": {\"gridcolor\": \"white\", \"linecolor\": \"white\", \"ticks\": \"\"}}, \"scene\": {\"xaxis\": {\"backgroundcolor\": \"#E5ECF6\", \"gridcolor\": \"white\", \"gridwidth\": 2, \"linecolor\": \"white\", \"showbackground\": true, \"ticks\": \"\", \"zerolinecolor\": \"white\"}, \"yaxis\": {\"backgroundcolor\": \"#E5ECF6\", \"gridcolor\": \"white\", \"gridwidth\": 2, \"linecolor\": \"white\", \"showbackground\": true, \"ticks\": \"\", \"zerolinecolor\": \"white\"}, \"zaxis\": {\"backgroundcolor\": \"#E5ECF6\", \"gridcolor\": \"white\", \"gridwidth\": 2, \"linecolor\": \"white\", \"showbackground\": true, \"ticks\": \"\", \"zerolinecolor\": \"white\"}}, \"shapedefaults\": {\"line\": {\"color\": \"#2a3f5f\"}}, \"ternary\": {\"aaxis\": {\"gridcolor\": \"white\", \"linecolor\": \"white\", \"ticks\": \"\"}, \"baxis\": {\"gridcolor\": \"white\", \"linecolor\": \"white\", \"ticks\": \"\"}, \"bgcolor\": \"#E5ECF6\", \"caxis\": {\"gridcolor\": \"white\", \"linecolor\": \"white\", \"ticks\": \"\"}}, \"title\": {\"x\": 0.05}, \"xaxis\": {\"automargin\": true, \"gridcolor\": \"white\", \"linecolor\": \"white\", \"ticks\": \"\", \"title\": {\"standoff\": 15}, \"zerolinecolor\": \"white\", \"zerolinewidth\": 2}, \"yaxis\": {\"automargin\": true, \"gridcolor\": \"white\", \"linecolor\": \"white\", \"ticks\": \"\", \"title\": {\"standoff\": 15}, \"zerolinecolor\": \"white\", \"zerolinewidth\": 2}}}, \"title\": {\"text\": \"Number of Inspections Conducted by ConEdison vs \\nNumber of Gas Leak Reports made to NYFD \\n(Plotting 280 dots)\"}, \"xaxis\": {\"anchor\": \"y\", \"domain\": [0.0, 1.0], \"title\": {\"text\": \"NumberOfReports_ConEd\"}}, \"yaxis\": {\"anchor\": \"x\", \"domain\": [0.0, 1.0], \"title\": {\"text\": \"NumberOfReports_FDNY\"}}},\n",
       "                        {\"responsive\": true}\n",
       "                    ).then(function(){\n",
       "                            \n",
       "var gd = document.getElementById('3b27deb4-3ecc-4871-9d28-58c2d6b9c061');\n",
       "var x = new MutationObserver(function (mutations, observer) {{\n",
       "        var display = window.getComputedStyle(gd).display;\n",
       "        if (!display || display === 'none') {{\n",
       "            console.log([gd, 'removed!']);\n",
       "            Plotly.purge(gd);\n",
       "            observer.disconnect();\n",
       "        }}\n",
       "}});\n",
       "\n",
       "// Listen for the removal of the full notebook cells\n",
       "var notebookContainer = gd.closest('#notebook-container');\n",
       "if (notebookContainer) {{\n",
       "    x.observe(notebookContainer, {childList: true});\n",
       "}}\n",
       "\n",
       "// Listen for the clearing of the current output cell\n",
       "var outputEl = gd.closest('.output');\n",
       "if (outputEl) {{\n",
       "    x.observe(outputEl, {childList: true});\n",
       "}}\n",
       "\n",
       "                        })\n",
       "                };\n",
       "                });\n",
       "            </script>\n",
       "        </div>"
      ]
     },
     "metadata": {},
     "output_type": "display_data"
    },
    {
     "name": "stdout",
     "output_type": "stream",
     "text": [
      "280\n"
     ]
    }
   ],
   "source": [
    "print(\"------------------------ SHOWING THE SAME SCATTER PLOT ( interactive ) ------------------------\")\n",
    "# INTERACTIVE PLOT:\n",
    "titleStr =  'Number of Inspections Conducted by ConEdison vs \\nNumber of Gas Leak Reports made to NYFD \\n(Plotting '+str(len(vsDF))+\" dots)\"\n",
    "fig = px.scatter(vsDF, x=\"NumberOfReports_ConEd\", y=\"NumberOfReports_FDNY\", color=\"CountyName\", hover_data=['MonthYear_ConEd', 'MonthYear_FDNY', 'Geoid', \"CensusTract\" ])\n",
    "# print(\"***TITLE OF SCATTER PLOT:*** \\n\"+titleStr)\n",
    "fig.update_layout(title=titleStr)\n",
    "fig.show() \n"
   ]
  },
  {
   "cell_type": "code",
   "execution_count": null,
   "metadata": {},
   "outputs": [],
   "source": []
  }
 ],
 "metadata": {
  "kernelspec": {
   "display_name": "Python 3.7.5 64-bit",
   "language": "python",
   "name": "python37564bit8e88b8f881e84216b896abc70a00718d"
  },
  "language_info": {
   "codemirror_mode": {
    "name": "ipython",
    "version": 3
   },
   "file_extension": ".py",
   "mimetype": "text/x-python",
   "name": "python",
   "nbconvert_exporter": "python",
   "pygments_lexer": "ipython3",
   "version": "3.7.5"
  }
 },
 "nbformat": 4,
 "nbformat_minor": 4
}
